{
  "cells": [
    {
      "cell_type": "code",
      "execution_count": 1,
      "metadata": {
        "colab": {
          "base_uri": "https://localhost:8080/"
        },
        "id": "mVpcfhyuaqUy",
        "outputId": "171c2a41-0b3c-437a-a0b1-ae9302558427"
      },
      "outputs": [
        {
          "name": "stdout",
          "output_type": "stream",
          "text": [
            "Drive already mounted at /content/drive; to attempt to forcibly remount, call drive.mount(\"/content/drive\", force_remount=True).\n"
          ]
        }
      ],
      "source": [
        "from google.colab import drive\n",
        "drive.mount('/content/drive')"
      ]
    },
    {
      "cell_type": "code",
      "execution_count": 2,
      "metadata": {
        "colab": {
          "base_uri": "https://localhost:8080/"
        },
        "id": "PqO85iQH49di",
        "outputId": "38bdd450-50b8-4650-c142-e7659dbd1d65"
      },
      "outputs": [
        {
          "name": "stdout",
          "output_type": "stream",
          "text": [
            "Cloning into 'arl-eegmodels'...\n",
            "remote: Enumerating objects: 112, done.\u001b[K\n",
            "remote: Counting objects: 100% (6/6), done.\u001b[K\n",
            "remote: Compressing objects: 100% (5/5), done.\u001b[K\n",
            "remote: Total 112 (delta 1), reused 4 (delta 1), pack-reused 106\u001b[K\n",
            "Receiving objects: 100% (112/112), 80.61 KiB | 620.00 KiB/s, done.\n",
            "Resolving deltas: 100% (48/48), done.\n"
          ]
        }
      ],
      "source": [
        "!git clone https://github.com/vlawhern/arl-eegmodels.git"
      ]
    },
    {
      "cell_type": "code",
      "execution_count": 3,
      "metadata": {
        "colab": {
          "base_uri": "https://localhost:8080/"
        },
        "id": "iXH4DuV05BbZ",
        "outputId": "035ff5fb-9741-47d4-e5f3-d1d2d242bf62"
      },
      "outputs": [
        {
          "name": "stdout",
          "output_type": "stream",
          "text": [
            "Collecting mne\n",
            "  Downloading mne-1.5.1-py3-none-any.whl (7.7 MB)\n",
            "\u001b[2K     \u001b[90m━━━━━━━━━━━━━━━━━━━━━━━━━━━━━━━━━━━━━━━━\u001b[0m \u001b[32m7.7/7.7 MB\u001b[0m \u001b[31m16.2 MB/s\u001b[0m eta \u001b[36m0:00:00\u001b[0m\n",
            "\u001b[?25hRequirement already satisfied: numpy>=1.15.4 in /usr/local/lib/python3.10/dist-packages (from mne) (1.23.5)\n",
            "Requirement already satisfied: scipy>=1.6.3 in /usr/local/lib/python3.10/dist-packages (from mne) (1.11.3)\n",
            "Requirement already satisfied: matplotlib>=3.4.0 in /usr/local/lib/python3.10/dist-packages (from mne) (3.7.1)\n",
            "Requirement already satisfied: tqdm in /usr/local/lib/python3.10/dist-packages (from mne) (4.66.1)\n",
            "Requirement already satisfied: pooch>=1.5 in /usr/local/lib/python3.10/dist-packages (from mne) (1.8.0)\n",
            "Requirement already satisfied: decorator in /usr/local/lib/python3.10/dist-packages (from mne) (4.4.2)\n",
            "Requirement already satisfied: packaging in /usr/local/lib/python3.10/dist-packages (from mne) (23.2)\n",
            "Requirement already satisfied: jinja2 in /usr/local/lib/python3.10/dist-packages (from mne) (3.1.2)\n",
            "Requirement already satisfied: contourpy>=1.0.1 in /usr/local/lib/python3.10/dist-packages (from matplotlib>=3.4.0->mne) (1.2.0)\n",
            "Requirement already satisfied: cycler>=0.10 in /usr/local/lib/python3.10/dist-packages (from matplotlib>=3.4.0->mne) (0.12.1)\n",
            "Requirement already satisfied: fonttools>=4.22.0 in /usr/local/lib/python3.10/dist-packages (from matplotlib>=3.4.0->mne) (4.44.0)\n",
            "Requirement already satisfied: kiwisolver>=1.0.1 in /usr/local/lib/python3.10/dist-packages (from matplotlib>=3.4.0->mne) (1.4.5)\n",
            "Requirement already satisfied: pillow>=6.2.0 in /usr/local/lib/python3.10/dist-packages (from matplotlib>=3.4.0->mne) (9.4.0)\n",
            "Requirement already satisfied: pyparsing>=2.3.1 in /usr/local/lib/python3.10/dist-packages (from matplotlib>=3.4.0->mne) (3.1.1)\n",
            "Requirement already satisfied: python-dateutil>=2.7 in /usr/local/lib/python3.10/dist-packages (from matplotlib>=3.4.0->mne) (2.8.2)\n",
            "Requirement already satisfied: platformdirs>=2.5.0 in /usr/local/lib/python3.10/dist-packages (from pooch>=1.5->mne) (3.11.0)\n",
            "Requirement already satisfied: requests>=2.19.0 in /usr/local/lib/python3.10/dist-packages (from pooch>=1.5->mne) (2.31.0)\n",
            "Requirement already satisfied: MarkupSafe>=2.0 in /usr/local/lib/python3.10/dist-packages (from jinja2->mne) (2.1.3)\n",
            "Requirement already satisfied: six>=1.5 in /usr/local/lib/python3.10/dist-packages (from python-dateutil>=2.7->matplotlib>=3.4.0->mne) (1.16.0)\n",
            "Requirement already satisfied: charset-normalizer<4,>=2 in /usr/local/lib/python3.10/dist-packages (from requests>=2.19.0->pooch>=1.5->mne) (3.3.2)\n",
            "Requirement already satisfied: idna<4,>=2.5 in /usr/local/lib/python3.10/dist-packages (from requests>=2.19.0->pooch>=1.5->mne) (3.4)\n",
            "Requirement already satisfied: urllib3<3,>=1.21.1 in /usr/local/lib/python3.10/dist-packages (from requests>=2.19.0->pooch>=1.5->mne) (2.0.7)\n",
            "Requirement already satisfied: certifi>=2017.4.17 in /usr/local/lib/python3.10/dist-packages (from requests>=2.19.0->pooch>=1.5->mne) (2023.7.22)\n",
            "Installing collected packages: mne\n",
            "Successfully installed mne-1.5.1\n",
            "Collecting PyRiemann\n",
            "  Downloading pyriemann-0.5.tar.gz (119 kB)\n",
            "\u001b[2K     \u001b[90m━━━━━━━━━━━━━━━━━━━━━━━━━━━━━━━━━━━━━━━━\u001b[0m \u001b[32m119.2/119.2 kB\u001b[0m \u001b[31m2.6 MB/s\u001b[0m eta \u001b[36m0:00:00\u001b[0m\n",
            "\u001b[?25h  Preparing metadata (setup.py) ... \u001b[?25l\u001b[?25hdone\n",
            "Requirement already satisfied: numpy!=1.24.0 in /usr/local/lib/python3.10/dist-packages (from PyRiemann) (1.23.5)\n",
            "Requirement already satisfied: scipy in /usr/local/lib/python3.10/dist-packages (from PyRiemann) (1.11.3)\n",
            "Requirement already satisfied: scikit-learn in /usr/local/lib/python3.10/dist-packages (from PyRiemann) (1.2.2)\n",
            "Requirement already satisfied: joblib in /usr/local/lib/python3.10/dist-packages (from PyRiemann) (1.3.2)\n",
            "Requirement already satisfied: threadpoolctl>=2.0.0 in /usr/local/lib/python3.10/dist-packages (from scikit-learn->PyRiemann) (3.2.0)\n",
            "Building wheels for collected packages: PyRiemann\n",
            "  Building wheel for PyRiemann (setup.py) ... \u001b[?25l\u001b[?25hdone\n",
            "  Created wheel for PyRiemann: filename=pyriemann-0.5-py2.py3-none-any.whl size=107752 sha256=6c4db46c7840d8495d44b85a8fddf53e1e07d0f2625836a7ba8c1b886e85f0d5\n",
            "  Stored in directory: /root/.cache/pip/wheels/84/86/79/622e9c1dc933dc088e287ebfaac5aa9bdc6a38a9db193ce1f1\n",
            "Successfully built PyRiemann\n",
            "Installing collected packages: PyRiemann\n",
            "Successfully installed PyRiemann-0.5\n",
            "Collecting mat73\n",
            "  Downloading mat73-0.62-py3-none-any.whl (19 kB)\n",
            "Requirement already satisfied: h5py in /usr/local/lib/python3.10/dist-packages (from mat73) (3.9.0)\n",
            "Requirement already satisfied: numpy in /usr/local/lib/python3.10/dist-packages (from mat73) (1.23.5)\n",
            "Installing collected packages: mat73\n",
            "Successfully installed mat73-0.62\n"
          ]
        }
      ],
      "source": [
        "!pip install mne\n",
        "!pip install PyRiemann\n",
        "!pip install mat73"
      ]
    },
    {
      "cell_type": "code",
      "execution_count": 2,
      "metadata": {
        "id": "JUA1dXwKpPsW"
      },
      "outputs": [],
      "source": [
        "from tqdm import tqdm\n",
        "import mat73\n",
        "from sklearn.metrics import f1_score\n",
        "from sklearn.metrics import roc_auc_score\n",
        "import numpy as np\n",
        "import pandas as pd\n",
        "from sklearn.model_selection import train_test_split\n",
        "from sklearn.preprocessing import StandardScaler\n",
        "from sklearn.discriminant_analysis import LinearDiscriminantAnalysis as LDA\n",
        "from sklearn.ensemble import RandomForestClassifier\n",
        "from sklearn.metrics import confusion_matrix, accuracy_score\n",
        "\n",
        "import matplotlib.pyplot as plt\n",
        "import seaborn as sns\n",
        "\n",
        "from sklearn.model_selection import train_test_split,cross_val_score,RepeatedStratifiedKFold,GridSearchCV\n",
        "from sklearn.metrics import ConfusionMatrixDisplay,precision_score,recall_score,confusion_matrix\n",
        "from imblearn.over_sampling import SMOTE\n",
        "\n",
        "from sklearn.svm import SVC\n",
        "\n",
        "\n",
        "\n",
        "\n",
        "#\n",
        "# vpae_dict = mat73.loadmat(\"VPae.mat\")\n",
        "# raw_eeg, epoch = load_MATLAB_data(participant_data=vpae_dict)"
      ]
    },
    {
      "cell_type": "code",
      "execution_count": 3,
      "metadata": {
        "colab": {
          "base_uri": "https://localhost:8080/"
        },
        "id": "8jdxxd5P5Mnu",
        "outputId": "16d7916b-60a8-4df5-ef2d-559ad332ea60"
      },
      "outputs": [
        {
          "name": "stdout",
          "output_type": "stream",
          "text": [
            "c:\\Users\\G7\\Desktop\\EEG_Analysis\\arl-eegmodels\n"
          ]
        }
      ],
      "source": [
        "cd arl-eegmodels"
      ]
    },
    {
      "cell_type": "code",
      "execution_count": 4,
      "metadata": {
        "id": "L4VHKUGc5FuF"
      },
      "outputs": [
        {
          "ename": "ModuleNotFoundError",
          "evalue": "No module named 'tensorflow'",
          "output_type": "error",
          "traceback": [
            "\u001b[1;31m---------------------------------------------------------------------------\u001b[0m",
            "\u001b[1;31mModuleNotFoundError\u001b[0m                       Traceback (most recent call last)",
            "\u001b[1;32mc:\\Users\\G7\\Desktop\\EEG_Analysis\\EEG_Net.ipynb Cell 6\u001b[0m line \u001b[0;36m1\n\u001b[1;32m----> <a href='vscode-notebook-cell:/c%3A/Users/G7/Desktop/EEG_Analysis/EEG_Net.ipynb#W5sZmlsZQ%3D%3D?line=0'>1</a>\u001b[0m \u001b[39mfrom\u001b[39;00m \u001b[39mEEGModels\u001b[39;00m \u001b[39mimport\u001b[39;00m EEGNet, ShallowConvNet, DeepConvNet\n",
            "File \u001b[1;32mc:\\Users\\G7\\Desktop\\EEG_Analysis\\arl-eegmodels\\EEGModels.py:43\u001b[0m\n\u001b[0;32m      1\u001b[0m \u001b[39m\"\"\"\u001b[39;00m\n\u001b[0;32m      2\u001b[0m \u001b[39m ARL_EEGModels - A collection of Convolutional Neural Network models for EEG\u001b[39;00m\n\u001b[0;32m      3\u001b[0m \u001b[39m Signal Processing and Classification, using Keras and Tensorflow\u001b[39;00m\n\u001b[1;32m   (...)\u001b[0m\n\u001b[0;32m     40\u001b[0m \u001b[39m distribution. \u001b[39;00m\n\u001b[0;32m     41\u001b[0m \u001b[39m\"\"\"\u001b[39;00m\n\u001b[1;32m---> 43\u001b[0m \u001b[39mfrom\u001b[39;00m \u001b[39mtensorflow\u001b[39;00m\u001b[39m.\u001b[39;00m\u001b[39mkeras\u001b[39;00m\u001b[39m.\u001b[39;00m\u001b[39mmodels\u001b[39;00m \u001b[39mimport\u001b[39;00m Model\n\u001b[0;32m     44\u001b[0m \u001b[39mfrom\u001b[39;00m \u001b[39mtensorflow\u001b[39;00m\u001b[39m.\u001b[39;00m\u001b[39mkeras\u001b[39;00m\u001b[39m.\u001b[39;00m\u001b[39mlayers\u001b[39;00m \u001b[39mimport\u001b[39;00m Dense, Activation, Permute, Dropout\n\u001b[0;32m     45\u001b[0m \u001b[39mfrom\u001b[39;00m \u001b[39mtensorflow\u001b[39;00m\u001b[39m.\u001b[39;00m\u001b[39mkeras\u001b[39;00m\u001b[39m.\u001b[39;00m\u001b[39mlayers\u001b[39;00m \u001b[39mimport\u001b[39;00m Conv2D, MaxPooling2D, AveragePooling2D\n",
            "\u001b[1;31mModuleNotFoundError\u001b[0m: No module named 'tensorflow'"
          ]
        }
      ],
      "source": [
        "from EEGModels import EEGNet, ShallowConvNet, DeepConvNet\n"
      ]
    },
    {
      "cell_type": "code",
      "execution_count": 7,
      "metadata": {
        "id": "2L9CFwFs5I6c"
      },
      "outputs": [],
      "source": [
        "model  = EEGNet(nb_classes = 1, Chans = 59, Samples = 301)"
      ]
    },
    {
      "cell_type": "code",
      "execution_count": 8,
      "metadata": {
        "id": "JX3BrqJK57cz"
      },
      "outputs": [],
      "source": [
        "model.compile(loss = 'binary_crossentropy', optimizer = 'adam')\n"
      ]
    },
    {
      "cell_type": "code",
      "execution_count": 9,
      "metadata": {
        "colab": {
          "base_uri": "https://localhost:8080/"
        },
        "id": "bmdxYbvClkG9",
        "outputId": "5b70a9f4-5d84-4738-e83f-c769c2dbaf0f"
      },
      "outputs": [
        {
          "name": "stdout",
          "output_type": "stream",
          "text": [
            "Model: \"model\"\n",
            "_________________________________________________________________\n",
            " Layer (type)                Output Shape              Param #   \n",
            "=================================================================\n",
            " input_1 (InputLayer)        [(None, 59, 301, 1)]      0         \n",
            "                                                                 \n",
            " conv2d (Conv2D)             (None, 59, 301, 8)        512       \n",
            "                                                                 \n",
            " batch_normalization (Batch  (None, 59, 301, 8)        32        \n",
            " Normalization)                                                  \n",
            "                                                                 \n",
            " depthwise_conv2d (Depthwis  (None, 1, 301, 16)        944       \n",
            " eConv2D)                                                        \n",
            "                                                                 \n",
            " batch_normalization_1 (Bat  (None, 1, 301, 16)        64        \n",
            " chNormalization)                                                \n",
            "                                                                 \n",
            " activation (Activation)     (None, 1, 301, 16)        0         \n",
            "                                                                 \n",
            " average_pooling2d (Average  (None, 1, 75, 16)         0         \n",
            " Pooling2D)                                                      \n",
            "                                                                 \n",
            " dropout (Dropout)           (None, 1, 75, 16)         0         \n",
            "                                                                 \n",
            " separable_conv2d (Separabl  (None, 1, 75, 16)         512       \n",
            " eConv2D)                                                        \n",
            "                                                                 \n",
            " batch_normalization_2 (Bat  (None, 1, 75, 16)         64        \n",
            " chNormalization)                                                \n",
            "                                                                 \n",
            " activation_1 (Activation)   (None, 1, 75, 16)         0         \n",
            "                                                                 \n",
            " average_pooling2d_1 (Avera  (None, 1, 9, 16)          0         \n",
            " gePooling2D)                                                    \n",
            "                                                                 \n",
            " dropout_1 (Dropout)         (None, 1, 9, 16)          0         \n",
            "                                                                 \n",
            " flatten (Flatten)           (None, 144)               0         \n",
            "                                                                 \n",
            " dense (Dense)               (None, 1)                 145       \n",
            "                                                                 \n",
            " softmax (Activation)        (None, 1)                 0         \n",
            "                                                                 \n",
            "=================================================================\n",
            "Total params: 2273 (8.88 KB)\n",
            "Trainable params: 2193 (8.57 KB)\n",
            "Non-trainable params: 80 (320.00 Byte)\n",
            "_________________________________________________________________\n"
          ]
        }
      ],
      "source": [
        "model.summary()\n"
      ]
    },
    {
      "cell_type": "code",
      "execution_count": null,
      "metadata": {
        "id": "9ss5dtGr6yM7"
      },
      "outputs": [],
      "source": [
        "from pandas import DataFrame\n",
        "import pandas as pd\n",
        "import mat73"
      ]
    },
    {
      "cell_type": "code",
      "execution_count": null,
      "metadata": {
        "id": "ntJAYq7ccCKa"
      },
      "outputs": [],
      "source": [
        "#processing MATLAB Function\n",
        "\n",
        "import mat73\n",
        "import numpy as np\n",
        "import mne\n",
        "\n",
        "\n",
        "chan_names = ['EOGv', 'Fp1', 'Fp2', 'AF3', 'AF4', 'EOGh', 'F7', 'F5', 'F3', 'F1' , 'Fz' , 'F2' , 'F4' , 'F6' , 'F8' , 'FT7' , 'FC5' , 'FC3' ,\n",
        "              'FC1' , 'FCz' , 'FC2' , 'FC4' , 'FC6' , 'FT8' , 'T7' , 'C5' , 'C3' , 'C1' , 'Cz' , 'C2' , 'C4' , 'C6' , 'T8' , 'TP7' , 'CP5' ,\n",
        "              'CP3' , 'CP1' , 'CPz' , 'CP2' , 'CP4' , 'CP6' , 'TP8' , 'P9' , 'P7' , 'P5' , 'P3' , 'P1' , 'Pz' , 'P2' , 'P4' , 'P6' , 'P8' ,\n",
        "            'P10' , 'PO7' , 'PO3' , 'POz' , 'PO4' , 'PO8' , 'O1' , 'Oz' , 'O2' , 'EMGf' , 'lead_gas','lead_brake','dist_to_lead',\n",
        "              'wheel_X','wheel_Y','gas','brake']\n",
        "\n",
        "\n",
        "\n",
        "def load_MATLAB_data(dir=None, participant_data=None):\n",
        "    if dir==None and participant_data==None: raise Exception(\"Must provide directory or dicitionary\")\n",
        "    # print(dir)\n",
        "    #load data\n",
        "    if participant_data == None:\n",
        "      participant_data = mat73.loadmat(dir)\n",
        "\n",
        "    eeg_names = chan_names[1:61]\n",
        "    eeg_names.pop(4)\n",
        "\n",
        "\n",
        "    #create MNE info object\n",
        "    sfreq = 200\n",
        "    n_channels = 59\n",
        "    # Initialize an info structure\n",
        "    info = mne.create_info(\n",
        "            ch_names = eeg_names,\n",
        "            ch_types = ['eeg']*n_channels,\n",
        "            sfreq    = sfreq\n",
        "            )\n",
        "\n",
        "    info.set_montage('standard_1020')\n",
        "\n",
        "    #create labels\n",
        "    Y  = participant_data['mrk']['y']\n",
        "    Y = np.rollaxis(Y, 1, 0)\n",
        "    loc, ind = np.where(Y>0)\n",
        "    np.unique(ind)\n",
        "    labels = ind + 1\n",
        "\n",
        "    #create event dict\n",
        "    event_id = dict(car_normal = 1, car_brake = 2,\tcar_hold = 3,\tcar_collision = 4,\treact_emg = 5)\n",
        "    eventLength = Y.shape[0]\n",
        "    ev = np.array([int(participant_data['mrk']['time'][i]/5) for i in range(eventLength)])\n",
        "    #delete duplicates\n",
        "    # ev = np.delete(ev, 578, 0)\n",
        "    # labels = np.delete(labels, 578, 0)\n",
        "\n",
        "    events = np.column_stack((np.array(ev),\n",
        "                          np.zeros(eventLength,  dtype = int),\n",
        "                          np.array(labels)))\n",
        "\n",
        "    #get time intervals around each y\n",
        "    stim_slices = [participant_data['cnt']['x'][int(idx/5)-60:int(idx/5)+240] for idx in participant_data['mrk']['time']]\n",
        "\n",
        "\n",
        "    # stim_slices.pop(578) #remove duplicates\n",
        "\n",
        "    #reshape data\n",
        "    npdata = np.array(stim_slices, dtype=object,)\n",
        "    npdata = np.swapaxes(npdata, 1,2)\n",
        "    npdata = np.delete(npdata, 0, 1)\n",
        "    npdata = np.delete(npdata, 4, 1)\n",
        "    npdata = np.delete(npdata, np.s_[59:], 1)\n",
        "\n",
        "    # tmin = 0\n",
        "    #     # Create the :class:`mne.EpochsArray` object\n",
        "    # epochs = mne.EpochsArray(npdata, info, events, tmin, event_id)\n",
        "\n",
        "    raw_data = np.swapaxes(np.array(participant_data['cnt']['x']), 0, 1)\n",
        "\n",
        "    raw_data = np.delete(raw_data, 0, 0)\n",
        "    raw_data = np.delete(raw_data, 4, 0)\n",
        "    raw_data = np.delete(raw_data, np.s_[59:], 0)\n",
        "\n",
        "    raw_eeg = mne.io.RawArray(raw_data,info, verbose=True)\n",
        "\n",
        "\n",
        "    epochs = mne.Epochs(raw_eeg, events, event_id=event_id, tmin=-0.3, tmax=1.2, preload=True, event_repeated='drop', verbose=True)\n",
        "\n",
        "\n",
        "\n",
        "    return raw_eeg, epochs\n"
      ]
    },
    {
      "cell_type": "code",
      "execution_count": null,
      "metadata": {
        "id": "R__nd1pfaRzZ"
      },
      "outputs": [],
      "source": [
        "def export_data_csv(dir, len):\n",
        "    vpae_dict = mat73.loadmat(dir)\n",
        "    raw_eeg, epoch = load_MATLAB_data(participant_data=vpae_dict)\n",
        "\n",
        "\n",
        "    non_targets = []\n",
        "    data_pairs = list(zip(vpae_dict['mrk']['time'], vpae_dict['mrk']['time'][1:]))\n",
        "    data_pairs = [(int(a[0]/5), int(a[1]/5)) for a in data_pairs]\n",
        "    # npTarget = np.delete(npTarget, npFiltered, 1)\n",
        "    for pr in data_pairs:\n",
        "        counter = pr[0] + 600\n",
        "        while (counter < pr[1]-900):\n",
        "            non_targets.append(vpae_dict['cnt']['x'][counter:counter+301])\n",
        "            counter += 301\n",
        "\n",
        "    # data_pairs = [(vpae_dict['mrk']['time'][i], vpae_dict['mrk']['time'][i+1]) for i in range(len(vpae_dict['mrk']['time'])-1)]\n",
        "    # for vpae_dict in mat_dicts:\n",
        "    npFiltered = np.where(np.std(epoch['car_normal'].average().get_data(), axis=1) > 2)\n",
        "    print(npFiltered)\n",
        "\n",
        "    npNonTarget = np.array(non_targets)\n",
        "    npNonTarget = np.swapaxes(npNonTarget, 1,2)\n",
        "    npNonTarget = np.delete(npNonTarget, 0, 1)\n",
        "    npNonTarget = np.delete(npNonTarget, 4, 1)\n",
        "    npNonTarget = np.delete(npNonTarget, np.s_[59:], 1)\n",
        "    # npNonTarget = np.delete(npNonTarget, npFiltered, 1)\n",
        "\n",
        "    # npNonTarget = mne.baseline.rescale(npNonTarget, )\n",
        "\n",
        "    # st = 40\n",
        "\n",
        "    indices = list(np.where(vpae_dict['mrk']['y'][1] == 1.0)[0])\n",
        "    times = [vpae_dict['mrk']['time'][x] for x in indices]\n",
        "\n",
        "\n",
        "\n",
        "    # targets = []\n",
        "    # for i in range(vpae_dict['mrk']['time'].shape[0]):\n",
        "    #     if (vpae_dict['mrk']['y'][1][i]):\n",
        "    #         t = int(vpae_dict['mrk']['time'][i]/5)\n",
        "    #         targets.append(vpae_dict['cnt']['x'][t+len-300:t+len+1])\n",
        "\n",
        "    # stim_slices = [vpae_dict['cnt']['x'][int(idx/5)-60:int(idx/5)+240] for idx in vpae_dict['mrk']['time']]\n",
        "    targets = np.array([vpae_dict['cnt']['x'][int(idx/5)+len-1:int(idx/5)+len+300] for idx in times])\n",
        "    # targets = [vpae_dict['cnt']['x'][int(idx/5)+len:int(idx/5)+len+1] for idx in times]\n",
        "\n",
        "\n",
        "    npTarget = np.array(targets)\n",
        "    npTarget = np.swapaxes(npTarget, 1,2)\n",
        "    npTarget = np.delete(npTarget, 0, 1)\n",
        "    npTarget = np.delete(npTarget, 4, 1)\n",
        "    npTarget = np.delete(npTarget, np.s_[59:], 1)\n",
        "    # npTarget = np.delete(npTarget,npFiltered, 1)\n",
        "\n",
        "\n",
        "    TR = npTarget #.copy()\n",
        "    TR = np.swapaxes(TR, 1, 2)\n",
        "    # TR = TR[0:,0:len+1,0:]\n",
        "    TR = np.swapaxes(TR, 0, 1)\n",
        "    # print(TR.shape)\n",
        "    TR = np.mean(TR, axis=2)\n",
        "    TR = np.swapaxes(TR, 0, 1)\n",
        "\n",
        "    FL = npNonTarget #.copy()\n",
        "    # FL = epochs['car_normal'].get_data()\n",
        "    FL = np.swapaxes(FL, 1, 2)\n",
        "    # FL = FL[0:,0:len+1,0:]\n",
        "    FL = np.swapaxes(FL, 0, 1)\n",
        "    FL = np.mean(FL, axis=2)\n",
        "    FL = np.swapaxes(FL, 0, 1)\n",
        "\n",
        "    TrueLabels = [1 for sample in range(TR.shape[0])]\n",
        "    FalseLabels = [0 for sample in range(FL.shape[0])]\n",
        "\n",
        "    X = np.concatenate((TR, FL))\n",
        "    y = np.concatenate((TrueLabels, FalseLabels))\n",
        "    y = np.expand_dims(y, axis=1)\n",
        "\n",
        "    return np.concatenate((npNonTarget, npTarget)), y\n",
        "\n",
        "\n"
      ]
    },
    {
      "cell_type": "code",
      "execution_count": null,
      "metadata": {
        "colab": {
          "base_uri": "https://localhost:8080/"
        },
        "id": "pCFSiQhvfcDh",
        "outputId": "662c9dc6-f702-421d-fa51-ae502bd536be"
      },
      "outputs": [
        {
          "name": "stdout",
          "output_type": "stream",
          "text": [
            "Creating RawArray with float64 data, n_channels=59, n_times=1619936\n",
            "    Range : 0 ... 1619935 =      0.000 ...  8099.675 secs\n",
            "Ready.\n",
            "Multiple event values for single event times found. Keeping the first occurrence and dropping all others.\n",
            "Not setting metadata\n",
            "913 matching events found\n",
            "Setting baseline interval to [-0.3, 0.0] s\n",
            "Applying baseline correction (mode: mean)\n",
            "0 projection items activated\n",
            "Using data from preloaded Raw for 913 events and 301 original time points ...\n",
            "0 bad epochs dropped\n",
            "NOTE: pick_channels() is a legacy function. New code should use inst.pick(...).\n",
            "(array([ 0,  1,  2,  3,  4,  5, 11, 12, 13, 20, 21, 22, 30, 33, 40, 50, 57,\n",
            "       58]),)\n"
          ]
        }
      ],
      "source": [
        "X, y = export_data_csv(\"/content/drive/Shareddrives/EEG_Data/EEG_Analysis/VPae.mat\", 340)"
      ]
    },
    {
      "cell_type": "code",
      "execution_count": null,
      "metadata": {
        "colab": {
          "base_uri": "https://localhost:8080/"
        },
        "id": "kxQbjYjjf8A7",
        "outputId": "48ffa476-99af-4a55-d4f9-3f44efcd6b17"
      },
      "outputs": [
        {
          "data": {
            "text/plain": [
              "(4064, 59, 301)"
            ]
          },
          "execution_count": 25,
          "metadata": {},
          "output_type": "execute_result"
        }
      ],
      "source": [
        "X.shape"
      ]
    },
    {
      "cell_type": "code",
      "execution_count": null,
      "metadata": {
        "colab": {
          "base_uri": "https://localhost:8080/"
        },
        "id": "pEFzi4P18PNU",
        "outputId": "29f1f4b3-cbeb-4c02-f129-50a92391ed6c"
      },
      "outputs": [
        {
          "data": {
            "text/plain": [
              "(4064, 1)"
            ]
          },
          "execution_count": 24,
          "metadata": {},
          "output_type": "execute_result"
        }
      ],
      "source": [
        "y.shape"
      ]
    },
    {
      "cell_type": "code",
      "execution_count": null,
      "metadata": {
        "id": "aa2o6GjUkjjy"
      },
      "outputs": [],
      "source": [
        "from sklearn.model_selection import train_test_split\n",
        "\n",
        "X_train, X_test, y_train, y_test = train_test_split(X, y, test_size=0.2, random_state=0)"
      ]
    },
    {
      "cell_type": "code",
      "execution_count": null,
      "metadata": {
        "id": "gnFGs15loQqk"
      },
      "outputs": [],
      "source": [
        "# oversampling and undersampling\n",
        "from sklearn.model_selection import StratifiedKFold\n",
        "from sklearn.decomposition import PCA\n",
        "from imblearn.over_sampling import RandomOverSampler, SMOTE\n",
        "from imblearn.under_sampling import RandomUnderSampler\n",
        "\n",
        "oversample = RandomOverSampler(sampling_strategy='minority')\n",
        "# undersample = RandomUnderSampler(sampling_strategy='majority')"
      ]
    },
    {
      "cell_type": "code",
      "execution_count": null,
      "metadata": {
        "colab": {
          "base_uri": "https://localhost:8080/"
        },
        "id": "RgVgF4UCojs5",
        "outputId": "38cc8a3a-ff85-4a72-ca7d-5257436c8ccc"
      },
      "outputs": [
        {
          "data": {
            "text/plain": [
              "2"
            ]
          },
          "execution_count": 54,
          "metadata": {},
          "output_type": "execute_result"
        }
      ],
      "source": [
        "kfold = StratifiedKFold(n_splits=2,shuffle=True,random_state=42)\n",
        "kfold.get_n_splits(X,y_train)"
      ]
    },
    {
      "cell_type": "code",
      "execution_count": null,
      "metadata": {
        "colab": {
          "base_uri": "https://localhost:8080/",
          "height": 339
        },
        "id": "V99DsbkRpYHi",
        "outputId": "0fce12c5-cf54-46dc-eb68-5b682dd4c947"
      },
      "outputs": [
        {
          "ename": "ValueError",
          "evalue": "ignored",
          "output_type": "error",
          "traceback": [
            "\u001b[0;31m---------------------------------------------------------------------------\u001b[0m",
            "\u001b[0;31mValueError\u001b[0m                                Traceback (most recent call last)",
            "\u001b[0;32m<ipython-input-56-a9fa120dd298>\u001b[0m in \u001b[0;36m<cell line: 1>\u001b[0;34m()\u001b[0m\n\u001b[0;32m----> 1\u001b[0;31m \u001b[0mX_train_over\u001b[0m\u001b[0;34m,\u001b[0m\u001b[0my_train_over\u001b[0m\u001b[0;34m=\u001b[0m \u001b[0moversample\u001b[0m\u001b[0;34m.\u001b[0m\u001b[0mfit_resample\u001b[0m\u001b[0;34m(\u001b[0m\u001b[0mX_train\u001b[0m\u001b[0;34m,\u001b[0m \u001b[0my_train\u001b[0m\u001b[0;34m)\u001b[0m\u001b[0;34m\u001b[0m\u001b[0;34m\u001b[0m\u001b[0m\n\u001b[0m",
            "\u001b[0;32m/usr/local/lib/python3.10/dist-packages/imblearn/base.py\u001b[0m in \u001b[0;36mfit_resample\u001b[0;34m(self, X, y)\u001b[0m\n\u001b[1;32m    201\u001b[0m         \"\"\"\n\u001b[1;32m    202\u001b[0m         \u001b[0mself\u001b[0m\u001b[0;34m.\u001b[0m\u001b[0m_validate_params\u001b[0m\u001b[0;34m(\u001b[0m\u001b[0;34m)\u001b[0m\u001b[0;34m\u001b[0m\u001b[0;34m\u001b[0m\u001b[0m\n\u001b[0;32m--> 203\u001b[0;31m         \u001b[0;32mreturn\u001b[0m \u001b[0msuper\u001b[0m\u001b[0;34m(\u001b[0m\u001b[0;34m)\u001b[0m\u001b[0;34m.\u001b[0m\u001b[0mfit_resample\u001b[0m\u001b[0;34m(\u001b[0m\u001b[0mX\u001b[0m\u001b[0;34m,\u001b[0m \u001b[0my\u001b[0m\u001b[0;34m)\u001b[0m\u001b[0;34m\u001b[0m\u001b[0;34m\u001b[0m\u001b[0m\n\u001b[0m\u001b[1;32m    204\u001b[0m \u001b[0;34m\u001b[0m\u001b[0m\n\u001b[1;32m    205\u001b[0m     \u001b[0;32mdef\u001b[0m \u001b[0m_more_tags\u001b[0m\u001b[0;34m(\u001b[0m\u001b[0mself\u001b[0m\u001b[0;34m)\u001b[0m\u001b[0;34m:\u001b[0m\u001b[0;34m\u001b[0m\u001b[0;34m\u001b[0m\u001b[0m\n",
            "\u001b[0;32m/usr/local/lib/python3.10/dist-packages/imblearn/base.py\u001b[0m in \u001b[0;36mfit_resample\u001b[0;34m(self, X, y)\u001b[0m\n\u001b[1;32m     80\u001b[0m         \u001b[0mcheck_classification_targets\u001b[0m\u001b[0;34m(\u001b[0m\u001b[0my\u001b[0m\u001b[0;34m)\u001b[0m\u001b[0;34m\u001b[0m\u001b[0;34m\u001b[0m\u001b[0m\n\u001b[1;32m     81\u001b[0m         \u001b[0marrays_transformer\u001b[0m \u001b[0;34m=\u001b[0m \u001b[0mArraysTransformer\u001b[0m\u001b[0;34m(\u001b[0m\u001b[0mX\u001b[0m\u001b[0;34m,\u001b[0m \u001b[0my\u001b[0m\u001b[0;34m)\u001b[0m\u001b[0;34m\u001b[0m\u001b[0;34m\u001b[0m\u001b[0m\n\u001b[0;32m---> 82\u001b[0;31m         \u001b[0mX\u001b[0m\u001b[0;34m,\u001b[0m \u001b[0my\u001b[0m\u001b[0;34m,\u001b[0m \u001b[0mbinarize_y\u001b[0m \u001b[0;34m=\u001b[0m \u001b[0mself\u001b[0m\u001b[0;34m.\u001b[0m\u001b[0m_check_X_y\u001b[0m\u001b[0;34m(\u001b[0m\u001b[0mX\u001b[0m\u001b[0;34m,\u001b[0m \u001b[0my\u001b[0m\u001b[0;34m)\u001b[0m\u001b[0;34m\u001b[0m\u001b[0;34m\u001b[0m\u001b[0m\n\u001b[0m\u001b[1;32m     83\u001b[0m \u001b[0;34m\u001b[0m\u001b[0m\n\u001b[1;32m     84\u001b[0m         self.sampling_strategy_ = check_sampling_strategy(\n",
            "\u001b[0;32m/usr/local/lib/python3.10/dist-packages/imblearn/over_sampling/_random_over_sampler.py\u001b[0m in \u001b[0;36m_check_X_y\u001b[0;34m(self, X, y)\u001b[0m\n\u001b[1;32m    155\u001b[0m     \u001b[0;32mdef\u001b[0m \u001b[0m_check_X_y\u001b[0m\u001b[0;34m(\u001b[0m\u001b[0mself\u001b[0m\u001b[0;34m,\u001b[0m \u001b[0mX\u001b[0m\u001b[0;34m,\u001b[0m \u001b[0my\u001b[0m\u001b[0;34m)\u001b[0m\u001b[0;34m:\u001b[0m\u001b[0;34m\u001b[0m\u001b[0;34m\u001b[0m\u001b[0m\n\u001b[1;32m    156\u001b[0m         \u001b[0my\u001b[0m\u001b[0;34m,\u001b[0m \u001b[0mbinarize_y\u001b[0m \u001b[0;34m=\u001b[0m \u001b[0mcheck_target_type\u001b[0m\u001b[0;34m(\u001b[0m\u001b[0my\u001b[0m\u001b[0;34m,\u001b[0m \u001b[0mindicate_one_vs_all\u001b[0m\u001b[0;34m=\u001b[0m\u001b[0;32mTrue\u001b[0m\u001b[0;34m)\u001b[0m\u001b[0;34m\u001b[0m\u001b[0;34m\u001b[0m\u001b[0m\n\u001b[0;32m--> 157\u001b[0;31m         X, y = self._validate_data(\n\u001b[0m\u001b[1;32m    158\u001b[0m             \u001b[0mX\u001b[0m\u001b[0;34m,\u001b[0m\u001b[0;34m\u001b[0m\u001b[0;34m\u001b[0m\u001b[0m\n\u001b[1;32m    159\u001b[0m             \u001b[0my\u001b[0m\u001b[0;34m,\u001b[0m\u001b[0;34m\u001b[0m\u001b[0;34m\u001b[0m\u001b[0m\n",
            "\u001b[0;32m/usr/local/lib/python3.10/dist-packages/sklearn/base.py\u001b[0m in \u001b[0;36m_validate_data\u001b[0;34m(self, X, y, reset, validate_separately, **check_params)\u001b[0m\n\u001b[1;32m    582\u001b[0m                 \u001b[0my\u001b[0m \u001b[0;34m=\u001b[0m \u001b[0mcheck_array\u001b[0m\u001b[0;34m(\u001b[0m\u001b[0my\u001b[0m\u001b[0;34m,\u001b[0m \u001b[0minput_name\u001b[0m\u001b[0;34m=\u001b[0m\u001b[0;34m\"y\"\u001b[0m\u001b[0;34m,\u001b[0m \u001b[0;34m**\u001b[0m\u001b[0mcheck_y_params\u001b[0m\u001b[0;34m)\u001b[0m\u001b[0;34m\u001b[0m\u001b[0;34m\u001b[0m\u001b[0m\n\u001b[1;32m    583\u001b[0m             \u001b[0;32melse\u001b[0m\u001b[0;34m:\u001b[0m\u001b[0;34m\u001b[0m\u001b[0;34m\u001b[0m\u001b[0m\n\u001b[0;32m--> 584\u001b[0;31m                 \u001b[0mX\u001b[0m\u001b[0;34m,\u001b[0m \u001b[0my\u001b[0m \u001b[0;34m=\u001b[0m \u001b[0mcheck_X_y\u001b[0m\u001b[0;34m(\u001b[0m\u001b[0mX\u001b[0m\u001b[0;34m,\u001b[0m \u001b[0my\u001b[0m\u001b[0;34m,\u001b[0m \u001b[0;34m**\u001b[0m\u001b[0mcheck_params\u001b[0m\u001b[0;34m)\u001b[0m\u001b[0;34m\u001b[0m\u001b[0;34m\u001b[0m\u001b[0m\n\u001b[0m\u001b[1;32m    585\u001b[0m             \u001b[0mout\u001b[0m \u001b[0;34m=\u001b[0m \u001b[0mX\u001b[0m\u001b[0;34m,\u001b[0m \u001b[0my\u001b[0m\u001b[0;34m\u001b[0m\u001b[0;34m\u001b[0m\u001b[0m\n\u001b[1;32m    586\u001b[0m \u001b[0;34m\u001b[0m\u001b[0m\n",
            "\u001b[0;32m/usr/local/lib/python3.10/dist-packages/sklearn/utils/validation.py\u001b[0m in \u001b[0;36mcheck_X_y\u001b[0;34m(X, y, accept_sparse, accept_large_sparse, dtype, order, copy, force_all_finite, ensure_2d, allow_nd, multi_output, ensure_min_samples, ensure_min_features, y_numeric, estimator)\u001b[0m\n\u001b[1;32m   1104\u001b[0m         )\n\u001b[1;32m   1105\u001b[0m \u001b[0;34m\u001b[0m\u001b[0m\n\u001b[0;32m-> 1106\u001b[0;31m     X = check_array(\n\u001b[0m\u001b[1;32m   1107\u001b[0m         \u001b[0mX\u001b[0m\u001b[0;34m,\u001b[0m\u001b[0;34m\u001b[0m\u001b[0;34m\u001b[0m\u001b[0m\n\u001b[1;32m   1108\u001b[0m         \u001b[0maccept_sparse\u001b[0m\u001b[0;34m=\u001b[0m\u001b[0maccept_sparse\u001b[0m\u001b[0;34m,\u001b[0m\u001b[0;34m\u001b[0m\u001b[0;34m\u001b[0m\u001b[0m\n",
            "\u001b[0;32m/usr/local/lib/python3.10/dist-packages/sklearn/utils/validation.py\u001b[0m in \u001b[0;36mcheck_array\u001b[0;34m(array, accept_sparse, accept_large_sparse, dtype, order, copy, force_all_finite, ensure_2d, allow_nd, ensure_min_samples, ensure_min_features, estimator, input_name)\u001b[0m\n\u001b[1;32m    913\u001b[0m             )\n\u001b[1;32m    914\u001b[0m         \u001b[0;32mif\u001b[0m \u001b[0;32mnot\u001b[0m \u001b[0mallow_nd\u001b[0m \u001b[0;32mand\u001b[0m \u001b[0marray\u001b[0m\u001b[0;34m.\u001b[0m\u001b[0mndim\u001b[0m \u001b[0;34m>=\u001b[0m \u001b[0;36m3\u001b[0m\u001b[0;34m:\u001b[0m\u001b[0;34m\u001b[0m\u001b[0;34m\u001b[0m\u001b[0m\n\u001b[0;32m--> 915\u001b[0;31m             raise ValueError(\n\u001b[0m\u001b[1;32m    916\u001b[0m                 \u001b[0;34m\"Found array with dim %d. %s expected <= 2.\"\u001b[0m\u001b[0;34m\u001b[0m\u001b[0;34m\u001b[0m\u001b[0m\n\u001b[1;32m    917\u001b[0m                 \u001b[0;34m%\u001b[0m \u001b[0;34m(\u001b[0m\u001b[0marray\u001b[0m\u001b[0;34m.\u001b[0m\u001b[0mndim\u001b[0m\u001b[0;34m,\u001b[0m \u001b[0mestimator_name\u001b[0m\u001b[0;34m)\u001b[0m\u001b[0;34m\u001b[0m\u001b[0;34m\u001b[0m\u001b[0m\n",
            "\u001b[0;31mValueError\u001b[0m: Found array with dim 3. RandomOverSampler expected <= 2."
          ]
        }
      ],
      "source": [
        "#  X_train_over,y_train_over= oversample.fit_resample(X_train, y_train)"
      ]
    },
    {
      "cell_type": "markdown",
      "metadata": {
        "id": "HzsABQQgorae"
      },
      "source": [
        "## Different Data"
      ]
    },
    {
      "cell_type": "code",
      "execution_count": 10,
      "metadata": {
        "id": "8t2z2mxXotku"
      },
      "outputs": [],
      "source": [
        "import mat73\n",
        "import numpy as np\n",
        "import mne\n",
        "\n",
        "\n",
        "participant_data = mat73.loadmat(\"/content/drive/Shareddrives/EEG_Data/EEG_Analysis/VPdx.mat\")\n",
        "\n",
        "labels = []\n",
        "non_targets = []\n",
        "data_pairs = list(zip(participant_data['mrk']['time'], participant_data['mrk']['time'][1:]))\n",
        "data_pairs = [(int(a[0]/5), int(a[1]/5)) for a in data_pairs]\n",
        "# npTarget = np.delete(npTarget, npFiltered, 1)\n",
        "for pr in data_pairs:\n",
        "    counter = pr[0] + 600\n",
        "    while (counter < pr[1]-900):\n",
        "        # non_targets.append(vpae_dict['cnt']['x'][counter:counter+301])\n",
        "        non_targets.append(counter)\n",
        "        labels.append(1)\n",
        "        counter += 301\n",
        "\n",
        "ev = []\n",
        "for i in range(participant_data['mrk']['y'].shape[1]):\n",
        "    if participant_data['mrk']['y'][1][i]:\n",
        "        ev.append(int(participant_data['mrk']['time'][i]/5))\n",
        "        labels.append(2)\n",
        "ev = np.array(ev)\n",
        "labels = np.array(labels)\n",
        "\n",
        "\n",
        "non_targets = np.array(non_targets)\n",
        "\n",
        "evs = np.concatenate((non_targets, ev))\n",
        "\n",
        "events = np.column_stack((np.array(evs),\n",
        "                        np.zeros(evs.shape[0],  dtype = int),\n",
        "                        np.array(labels)))"
      ]
    },
    {
      "cell_type": "code",
      "execution_count": 11,
      "metadata": {
        "colab": {
          "base_uri": "https://localhost:8080/"
        },
        "id": "QWrV29mUoviP",
        "outputId": "9f16e4a6-7fea-48bd-a186-8df943c7f67d"
      },
      "outputs": [
        {
          "name": "stdout",
          "output_type": "stream",
          "text": [
            "(4119, 3)\n",
            "Creating RawArray with float64 data, n_channels=59, n_times=1619949\n",
            "    Range : 0 ... 1619948 =      0.000 ...  8099.740 secs\n",
            "Ready.\n",
            "Not setting metadata\n",
            "4119 matching events found\n",
            "Setting baseline interval to [-0.3, 0.0] s\n",
            "Applying baseline correction (mode: mean)\n",
            "0 projection items activated\n",
            "Using data from preloaded Raw for 4119 events and 301 original time points ...\n"
          ]
        },
        {
          "name": "stderr",
          "output_type": "stream",
          "text": [
            "<ipython-input-11-73f4cef899a5>:36: RuntimeWarning: The events passed to the Epochs constructor are not chronologically ordered.\n",
            "  epochs = mne.Epochs(raw_eeg, events, event_id=event_id, tmin=-0.3, tmax=1.2, preload=True, event_repeated='drop', verbose=True)\n"
          ]
        },
        {
          "name": "stdout",
          "output_type": "stream",
          "text": [
            "0 bad epochs dropped\n"
          ]
        }
      ],
      "source": [
        "print(events.shape)\n",
        "# print(Y[:,1].shape)\n",
        "# print(Y[:,1][Y[:,1] == 1].shape)\n",
        "\n",
        "chan_names = ['EOGv', 'Fp1', 'Fp2', 'AF3', 'AF4', 'EOGh', 'F7', 'F5', 'F3', 'F1' , 'Fz' , 'F2' , 'F4' , 'F6' , 'F8' , 'FT7' , 'FC5' , 'FC3' ,\n",
        "              'FC1' , 'FCz' , 'FC2' , 'FC4' , 'FC6' , 'FT8' , 'T7' , 'C5' , 'C3' , 'C1' , 'Cz' , 'C2' , 'C4' , 'C6' , 'T8' , 'TP7' , 'CP5' ,\n",
        "              'CP3' , 'CP1' , 'CPz' , 'CP2' , 'CP4' , 'CP6' , 'TP8' , 'P9' , 'P7' , 'P5' , 'P3' , 'P1' , 'Pz' , 'P2' , 'P4' , 'P6' , 'P8' ,\n",
        "            'P10' , 'PO7' , 'PO3' , 'POz' , 'PO4' , 'PO8' , 'O1' , 'Oz' , 'O2' , 'EMGf' , 'lead_gas','lead_brake','dist_to_lead',\n",
        "              'wheel_X','wheel_Y','gas','brake']\n",
        "\n",
        "eeg_names = chan_names[1:61]\n",
        "eeg_names.pop(4)\n",
        "#create MNE info object\n",
        "sfreq = 200\n",
        "n_channels = 59\n",
        "# Initialize an info structure\n",
        "info = mne.create_info(\n",
        "        ch_names = eeg_names,\n",
        "        ch_types = ['eeg']*n_channels,\n",
        "        sfreq    = sfreq\n",
        "        )\n",
        "\n",
        "info.set_montage('standard_1020')\n",
        "event_id = dict(car_normal = 1, car_brake = 2)\n",
        "\n",
        "raw_data = np.swapaxes(np.array(participant_data['cnt']['x']), 0, 1)\n",
        "\n",
        "raw_data = np.delete(raw_data, 0, 0)\n",
        "raw_data = np.delete(raw_data, 4, 0)\n",
        "raw_data = np.delete(raw_data, np.s_[59:], 0)\n",
        "\n",
        "raw_eeg = mne.io.RawArray(raw_data,info, verbose=True)\n",
        "\n",
        "\n",
        "# epochs = mne.Epochs(raw_eeg, events, event_id=event_id, tmin=-1.7, tmax=1.2, preload=True, event_repeated='drop', verbose=True)\n",
        "epochs = mne.Epochs(raw_eeg, events, event_id=event_id, tmin=-0.3, tmax=1.2, preload=True, event_repeated='drop', verbose=True)"
      ]
    },
    {
      "cell_type": "code",
      "execution_count": 15,
      "metadata": {
        "id": "ixxuLAlfo4rn"
      },
      "outputs": [],
      "source": [
        "TR = epochs[\"car_brake\"].get_data() #.copy()\n",
        "\n",
        "# TR = np.swapaxes(TR, 1, 2)\n",
        "# TR = TR[0:,0:len+1,0:]\n",
        "TR = np.swapaxes(TR, 0, 1)\n",
        "# print(TR.shape)\n",
        "TR = np.swapaxes(TR, 0, 1)\n",
        "\n",
        "FL = epochs[\"car_normal\"].get_data() #.copy()\n",
        "# FL = np.swapaxes(FL, 1, 2)\n",
        "# FL = FL[0:,0:len+1,0:]\n",
        "FL = np.swapaxes(FL, 0, 1)\n",
        "FL = np.swapaxes(FL, 0, 1)\n",
        "\n",
        "TrueLabels = [1 for sample in range(TR.shape[0])]\n",
        "FalseLabels = [0 for sample in range(FL.shape[0])]\n",
        "\n",
        "X = np.concatenate((TR, FL))\n",
        "X = np.expand_dims(X, axis=3)\n",
        "y = np.concatenate((TrueLabels, FalseLabels))\n",
        "y = np.expand_dims(y, axis=1)\n",
        "\n",
        "\n",
        "X_train, X_test, y_train, y_test = train_test_split(X, y, test_size=0.5, random_state=0)"
      ]
    },
    {
      "cell_type": "code",
      "execution_count": 16,
      "metadata": {
        "colab": {
          "base_uri": "https://localhost:8080/"
        },
        "id": "fSvHKnTcrDvz",
        "outputId": "b670a4dc-b3af-4dfb-a1fb-2fc5e160e2a2"
      },
      "outputs": [
        {
          "name": "stdout",
          "output_type": "stream",
          "text": [
            "(2059, 59, 301, 1)\n",
            "(2059, 1)\n",
            "(2060, 59, 301, 1)\n",
            "(108,)\n"
          ]
        }
      ],
      "source": [
        "print(X_train.shape)\n",
        "print(y_train.shape)\n",
        "print(X_test.shape)\n",
        "print(y_test[y_test == 1].shape)\n"
      ]
    },
    {
      "cell_type": "code",
      "execution_count": 17,
      "metadata": {
        "colab": {
          "base_uri": "https://localhost:8080/"
        },
        "id": "27r1N3db5_qL",
        "outputId": "98a991f4-b39e-4f90-e670-f37e158ebbed"
      },
      "outputs": [
        {
          "name": "stdout",
          "output_type": "stream",
          "text": [
            "Epoch 1/10\n",
            "65/65 [==============================] - 59s 865ms/step - loss: 0.5775\n",
            "Epoch 2/10\n",
            "65/65 [==============================] - 50s 773ms/step - loss: 0.4283\n",
            "Epoch 3/10\n",
            "65/65 [==============================] - 50s 766ms/step - loss: 0.3610\n",
            "Epoch 4/10\n",
            "65/65 [==============================] - 50s 773ms/step - loss: 0.3015\n",
            "Epoch 5/10\n",
            "65/65 [==============================] - 48s 734ms/step - loss: 0.2689\n",
            "Epoch 6/10\n",
            "65/65 [==============================] - 48s 740ms/step - loss: 0.2490\n",
            "Epoch 7/10\n",
            "65/65 [==============================] - 51s 789ms/step - loss: 0.2293\n",
            "Epoch 8/10\n",
            "65/65 [==============================] - 52s 793ms/step - loss: 0.2146\n",
            "Epoch 9/10\n",
            "65/65 [==============================] - 48s 733ms/step - loss: 0.2044\n",
            "Epoch 10/10\n",
            "65/65 [==============================] - 52s 810ms/step - loss: 0.1946\n"
          ]
        }
      ],
      "source": [
        "fittedModel = model.fit(X_train,y_train, epochs=10)\n"
      ]
    },
    {
      "cell_type": "code",
      "execution_count": 18,
      "metadata": {
        "id": "lY8Oaqm2mppb"
      },
      "outputs": [],
      "source": [
        "model_pred = []"
      ]
    },
    {
      "cell_type": "code",
      "execution_count": 19,
      "metadata": {
        "colab": {
          "base_uri": "https://localhost:8080/"
        },
        "id": "K2Ljb6cr8NIa",
        "outputId": "81b191bc-4624-4a7a-8926-d027bff555b7"
      },
      "outputs": [
        {
          "name": "stdout",
          "output_type": "stream",
          "text": [
            "65/65 [==============================] - 8s 118ms/step\n",
            "Validation score: 1.0\n"
          ]
        }
      ],
      "source": [
        "from sklearn import metrics\n",
        "\n",
        "pred = model.predict(X_test)\n",
        "pred = np.argmax(pred,axis=1)\n",
        "y_eval = np.argmax(y_test,axis=1)\n",
        "score = metrics.accuracy_score(y_eval, pred)\n",
        "model_pred.append(score)\n",
        "print(\"Validation score: {}\".format(score))"
      ]
    },
    {
      "cell_type": "code",
      "execution_count": 20,
      "metadata": {
        "colab": {
          "base_uri": "https://localhost:8080/",
          "height": 466
        },
        "id": "dp9eMeZ5kJ6x",
        "outputId": "d8f55cf0-653e-4ce1-afed-a8b03aedfec3"
      },
      "outputs": [
        {
          "data": {
            "text/plain": [
              "<sklearn.metrics._plot.confusion_matrix.ConfusionMatrixDisplay at 0x7a896aa4be80>"
            ]
          },
          "execution_count": 20,
          "metadata": {},
          "output_type": "execute_result"
        },
        {
          "data": {
            "image/png": "[encoded data removed]",
            "text/plain": [
              "<Figure size 640x480 with 2 Axes>"
            ]
          },
          "metadata": {},
          "output_type": "display_data"
        }
      ],
      "source": [
        "from sklearn.metrics import ConfusionMatrixDisplay\n",
        "\n",
        "ConfusionMatrixDisplay.from_predictions(y_test, pred)\n",
        "\n"
      ]
    },
    {
      "cell_type": "code",
      "execution_count": 21,
      "metadata": {
        "colab": {
          "base_uri": "https://localhost:8080/"
        },
        "id": "xK8SZZ8-nCFK",
        "outputId": "6ecbf591-66cf-46e5-8b6f-498c65370d26"
      },
      "outputs": [
        {
          "name": "stdout",
          "output_type": "stream",
          "text": [
            "EEGNet Accuracy : 0.9475728155339805\n",
            "EEGNet F1 Score : 0.0\n"
          ]
        }
      ],
      "source": [
        "from sklearn.metrics import f1_score\n",
        "from sklearn.metrics import roc_auc_score\n",
        "from sklearn.metrics import confusion_matrix, accuracy_score\n",
        "\n",
        "acc = accuracy_score(y_test, pred)\n",
        "# y_pred_proba = model.predict_proba(X_test)[:, 1]\n",
        "# auc_score = roc_auc_score(y_test, y_pred_proba)\n",
        "f1 = f1_score(y_test, pred)\n",
        "\n",
        "print('EEGNet Accuracy :', acc)\n",
        "# print('EEGNet AUC Score :', auc_score)\n",
        "print('EEGNet F1 Score :', f1)\n"
      ]
    },
    {
      "cell_type": "code",
      "execution_count": 22,
      "metadata": {
        "colab": {
          "base_uri": "https://localhost:8080/",
          "height": 391
        },
        "id": "-gx56f1ZtOtZ",
        "outputId": "dcb6e354-b104-442d-a194-faf7c36eb7b9"
      },
      "outputs": [
        {
          "ename": "ValueError",
          "evalue": "ignored",
          "output_type": "error",
          "traceback": [
            "\u001b[0;31m---------------------------------------------------------------------------\u001b[0m",
            "\u001b[0;31mValueError\u001b[0m                                Traceback (most recent call last)",
            "\u001b[0;32m<ipython-input-22-03cade477b9b>\u001b[0m in \u001b[0;36m<cell line: 4>\u001b[0;34m()\u001b[0m\n\u001b[1;32m      2\u001b[0m \u001b[0;34m\u001b[0m\u001b[0m\n\u001b[1;32m      3\u001b[0m \u001b[0mtarget_names\u001b[0m \u001b[0;34m=\u001b[0m \u001b[0;34m[\u001b[0m\u001b[0;34m'car_normal'\u001b[0m\u001b[0;34m,\u001b[0m\u001b[0;34m'car_collision'\u001b[0m\u001b[0;34m]\u001b[0m\u001b[0;34m\u001b[0m\u001b[0;34m\u001b[0m\u001b[0m\n\u001b[0;32m----> 4\u001b[0;31m \u001b[0mreport\u001b[0m \u001b[0;34m=\u001b[0m \u001b[0mclassification_report\u001b[0m\u001b[0;34m(\u001b[0m\u001b[0mlabels\u001b[0m\u001b[0;34m,\u001b[0m \u001b[0mpred\u001b[0m\u001b[0;34m,\u001b[0m \u001b[0mtarget_names\u001b[0m\u001b[0;34m=\u001b[0m\u001b[0mtarget_names\u001b[0m\u001b[0;34m)\u001b[0m\u001b[0;34m\u001b[0m\u001b[0;34m\u001b[0m\u001b[0m\n\u001b[0m\u001b[1;32m      5\u001b[0m \u001b[0mprint\u001b[0m\u001b[0;34m(\u001b[0m\u001b[0mreport\u001b[0m\u001b[0;34m)\u001b[0m\u001b[0;34m\u001b[0m\u001b[0;34m\u001b[0m\u001b[0m\n\u001b[1;32m      6\u001b[0m \u001b[0;34m\u001b[0m\u001b[0m\n",
            "\u001b[0;32m/usr/local/lib/python3.10/dist-packages/sklearn/metrics/_classification.py\u001b[0m in \u001b[0;36mclassification_report\u001b[0;34m(y_true, y_pred, labels, target_names, sample_weight, digits, output_dict, zero_division)\u001b[0m\n\u001b[1;32m   2308\u001b[0m     \"\"\"\n\u001b[1;32m   2309\u001b[0m \u001b[0;34m\u001b[0m\u001b[0m\n\u001b[0;32m-> 2310\u001b[0;31m     \u001b[0my_type\u001b[0m\u001b[0;34m,\u001b[0m \u001b[0my_true\u001b[0m\u001b[0;34m,\u001b[0m \u001b[0my_pred\u001b[0m \u001b[0;34m=\u001b[0m \u001b[0m_check_targets\u001b[0m\u001b[0;34m(\u001b[0m\u001b[0my_true\u001b[0m\u001b[0;34m,\u001b[0m \u001b[0my_pred\u001b[0m\u001b[0;34m)\u001b[0m\u001b[0;34m\u001b[0m\u001b[0;34m\u001b[0m\u001b[0m\n\u001b[0m\u001b[1;32m   2311\u001b[0m \u001b[0;34m\u001b[0m\u001b[0m\n\u001b[1;32m   2312\u001b[0m     \u001b[0;32mif\u001b[0m \u001b[0mlabels\u001b[0m \u001b[0;32mis\u001b[0m \u001b[0;32mNone\u001b[0m\u001b[0;34m:\u001b[0m\u001b[0;34m\u001b[0m\u001b[0;34m\u001b[0m\u001b[0m\n",
            "\u001b[0;32m/usr/local/lib/python3.10/dist-packages/sklearn/metrics/_classification.py\u001b[0m in \u001b[0;36m_check_targets\u001b[0;34m(y_true, y_pred)\u001b[0m\n\u001b[1;32m     84\u001b[0m     \u001b[0my_pred\u001b[0m \u001b[0;34m:\u001b[0m \u001b[0marray\u001b[0m \u001b[0;32mor\u001b[0m \u001b[0mindicator\u001b[0m \u001b[0mmatrix\u001b[0m\u001b[0;34m\u001b[0m\u001b[0;34m\u001b[0m\u001b[0m\n\u001b[1;32m     85\u001b[0m     \"\"\"\n\u001b[0;32m---> 86\u001b[0;31m     \u001b[0mcheck_consistent_length\u001b[0m\u001b[0;34m(\u001b[0m\u001b[0my_true\u001b[0m\u001b[0;34m,\u001b[0m \u001b[0my_pred\u001b[0m\u001b[0;34m)\u001b[0m\u001b[0;34m\u001b[0m\u001b[0;34m\u001b[0m\u001b[0m\n\u001b[0m\u001b[1;32m     87\u001b[0m     \u001b[0mtype_true\u001b[0m \u001b[0;34m=\u001b[0m \u001b[0mtype_of_target\u001b[0m\u001b[0;34m(\u001b[0m\u001b[0my_true\u001b[0m\u001b[0;34m,\u001b[0m \u001b[0minput_name\u001b[0m\u001b[0;34m=\u001b[0m\u001b[0;34m\"y_true\"\u001b[0m\u001b[0;34m)\u001b[0m\u001b[0;34m\u001b[0m\u001b[0;34m\u001b[0m\u001b[0m\n\u001b[1;32m     88\u001b[0m     \u001b[0mtype_pred\u001b[0m \u001b[0;34m=\u001b[0m \u001b[0mtype_of_target\u001b[0m\u001b[0;34m(\u001b[0m\u001b[0my_pred\u001b[0m\u001b[0;34m,\u001b[0m \u001b[0minput_name\u001b[0m\u001b[0;34m=\u001b[0m\u001b[0;34m\"y_pred\"\u001b[0m\u001b[0;34m)\u001b[0m\u001b[0;34m\u001b[0m\u001b[0;34m\u001b[0m\u001b[0m\n",
            "\u001b[0;32m/usr/local/lib/python3.10/dist-packages/sklearn/utils/validation.py\u001b[0m in \u001b[0;36mcheck_consistent_length\u001b[0;34m(*arrays)\u001b[0m\n\u001b[1;32m    395\u001b[0m     \u001b[0muniques\u001b[0m \u001b[0;34m=\u001b[0m \u001b[0mnp\u001b[0m\u001b[0;34m.\u001b[0m\u001b[0munique\u001b[0m\u001b[0;34m(\u001b[0m\u001b[0mlengths\u001b[0m\u001b[0;34m)\u001b[0m\u001b[0;34m\u001b[0m\u001b[0;34m\u001b[0m\u001b[0m\n\u001b[1;32m    396\u001b[0m     \u001b[0;32mif\u001b[0m \u001b[0mlen\u001b[0m\u001b[0;34m(\u001b[0m\u001b[0muniques\u001b[0m\u001b[0;34m)\u001b[0m \u001b[0;34m>\u001b[0m \u001b[0;36m1\u001b[0m\u001b[0;34m:\u001b[0m\u001b[0;34m\u001b[0m\u001b[0;34m\u001b[0m\u001b[0m\n\u001b[0;32m--> 397\u001b[0;31m         raise ValueError(\n\u001b[0m\u001b[1;32m    398\u001b[0m             \u001b[0;34m\"Found input variables with inconsistent numbers of samples: %r\"\u001b[0m\u001b[0;34m\u001b[0m\u001b[0;34m\u001b[0m\u001b[0m\n\u001b[1;32m    399\u001b[0m             \u001b[0;34m%\u001b[0m \u001b[0;34m[\u001b[0m\u001b[0mint\u001b[0m\u001b[0;34m(\u001b[0m\u001b[0ml\u001b[0m\u001b[0;34m)\u001b[0m \u001b[0;32mfor\u001b[0m \u001b[0ml\u001b[0m \u001b[0;32min\u001b[0m \u001b[0mlengths\u001b[0m\u001b[0;34m]\u001b[0m\u001b[0;34m\u001b[0m\u001b[0;34m\u001b[0m\u001b[0m\n",
            "\u001b[0;31mValueError\u001b[0m: Found input variables with inconsistent numbers of samples: [4119, 2060]"
          ]
        }
      ],
      "source": [
        "from sklearn.metrics import classification_report\n",
        "\n",
        "target_names = ['car_normal','car_collision']\n",
        "report = classification_report(labels, pred, target_names=target_names)\n",
        "print(report)\n",
        "\n",
        "# Normalized confusion matrix\n",
        "cm = confusion_matrix(labels, pred)\n",
        "cm_normalized = cm.astype(float) / cm.sum(axis=1)[:, np.newaxis]\n",
        "\n",
        "# Plot confusion matrix\n",
        "fig, ax = plt.subplots(1, layout=\"constrained\")\n",
        "im = ax.imshow(cm_normalized, interpolation=\"nearest\", cmap=plt.cm.Blues)\n",
        "ax.set(title=\"Normalized Confusion matrix\")\n",
        "fig.colorbar(im)\n",
        "tick_marks = np.arange(len(target_names))\n",
        "plt.xticks(tick_marks, target_names, rotation=45)\n",
        "plt.yticks(tick_marks, target_names)\n",
        "ax.set(ylabel=\"True label\", xlabel=\"Predicted label\")"
      ]
    },
    {
      "cell_type": "code",
      "execution_count": null,
      "metadata": {
        "id": "l7P36H3lvIF0"
      },
      "outputs": [],
      "source": [
        "import time\n",
        "import random\n",
        "\n",
        "start = time.time()\n",
        "randomIndex = random.randint(0, len(X_test) - 1)\n",
        "\n",
        "sampleInput = X_test[randomIndex]\n",
        "sampleInput = sampleInput[None,:,:,:]\n",
        "\n",
        "print(sampleInput.shape)\n",
        "model.predict(sampleInput)\n",
        "end = time.time()\n",
        "print('Time taken: ', end-start)"
      ]
    }
  ],
  "metadata": {
    "colab": {
      "provenance": []
    },
    "kernelspec": {
      "display_name": "Python 3",
      "name": "python3"
    },
    "language_info": {
      "codemirror_mode": {
        "name": "ipython",
        "version": 3
      },
      "file_extension": ".py",
      "mimetype": "text/x-python",
      "name": "python",
      "nbconvert_exporter": "python",
      "pygments_lexer": "ipython3",
      "version": "3.12.0"
    }
  },
  "nbformat": 4,
  "nbformat_minor": 0
}
