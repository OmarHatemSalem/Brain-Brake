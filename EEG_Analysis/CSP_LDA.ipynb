{
  "cells": [
    {
      "cell_type": "code",
      "execution_count": 1,
      "metadata": {},
      "outputs": [],
      "source": [
        "from tqdm import tqdm\n",
        "import mat73\n",
        "from sklearn.metrics import f1_score\n",
        "from sklearn.metrics import roc_auc_score\n",
        "import numpy as np\n",
        "import pandas as pd\n",
        "from sklearn.model_selection import train_test_split\n",
        "from sklearn.preprocessing import StandardScaler\n",
        "from sklearn.discriminant_analysis import LinearDiscriminantAnalysis as LDA\n",
        "from sklearn.ensemble import RandomForestClassifier\n",
        "from sklearn.metrics import confusion_matrix, accuracy_score\n",
        "\n",
        "import matplotlib.pyplot as plt\n",
        "import seaborn as sns\n",
        "\n",
        "from sklearn.model_selection import train_test_split,cross_val_score,RepeatedStratifiedKFold,GridSearchCV\n",
        "from sklearn.metrics import ConfusionMatrixDisplay,precision_score,recall_score,confusion_matrix\n",
        "from imblearn.over_sampling import SMOTE\n"
      ]
    },
    {
      "cell_type": "code",
      "execution_count": 2,
      "metadata": {
        "id": "3NQIAJ03dvQ6"
      },
      "outputs": [],
      "source": [
        "#processing MATLAB Function\n",
        "\n",
        "import mat73\n",
        "import numpy as np\n",
        "import mne\n",
        "\n",
        "\n",
        "chan_names = ['EOGv', 'Fp1', 'Fp2', 'AF3', 'AF4', 'EOGh', 'F7', 'F5', 'F3', 'F1' , 'Fz' , 'F2' , 'F4' , 'F6' , 'F8' , 'FT7' , 'FC5' , 'FC3' ,\n",
        "              'FC1' , 'FCz' , 'FC2' , 'FC4' , 'FC6' , 'FT8' , 'T7' , 'C5' , 'C3' , 'C1' , 'Cz' , 'C2' , 'C4' , 'C6' , 'T8' , 'TP7' , 'CP5' ,\n",
        "              'CP3' , 'CP1' , 'CPz' , 'CP2' , 'CP4' , 'CP6' , 'TP8' , 'P9' , 'P7' , 'P5' , 'P3' , 'P1' , 'Pz' , 'P2' , 'P4' , 'P6' , 'P8' ,\n",
        "            'P10' , 'PO7' , 'PO3' , 'POz' , 'PO4' , 'PO8' , 'O1' , 'Oz' , 'O2' , 'EMGf' , 'lead_gas','lead_brake','dist_to_lead',\n",
        "              'wheel_X','wheel_Y','gas','brake']\n",
        "\n",
        "\n",
        "\n",
        "def load_MATLAB_data(dir=None, participant_data=None):\n",
        "    if dir==None and participant_data==None: raise Exception(\"Must provide directory or dicitionary\")\n",
        "    # print(dir)\n",
        "    #load data\n",
        "    if participant_data == None:\n",
        "      participant_data = mat73.loadmat(dir)\n",
        "\n",
        "    eeg_names = chan_names[1:61]\n",
        "    eeg_names.pop(4)\n",
        "\n",
        "\n",
        "    #create MNE info object\n",
        "    sfreq = 200\n",
        "    n_channels = 59\n",
        "    # Initialize an info structure\n",
        "    info = mne.create_info(\n",
        "            ch_names = eeg_names,\n",
        "            ch_types = ['eeg']*n_channels,\n",
        "            sfreq    = sfreq\n",
        "            )\n",
        "\n",
        "    info.set_montage('standard_1020')\n",
        "\n",
        "    #create labels\n",
        "    Y  = participant_data['mrk']['y']\n",
        "    Y = np.rollaxis(Y, 1, 0)\n",
        "    loc, ind = np.where(Y>0)\n",
        "    np.unique(ind)\n",
        "    labels = ind + 1\n",
        "\n",
        "    #create event dict\n",
        "    event_id = dict(car_normal = 1, car_brake = 2,\tcar_hold = 3,\tcar_collision = 4,\treact_emg = 5)\n",
        "    eventLength = Y.shape[0]\n",
        "    ev = np.array([int(participant_data['mrk']['time'][i]/5) for i in range(eventLength)])\n",
        "    #delete duplicates\n",
        "    # ev = np.delete(ev, 578, 0)\n",
        "    # labels = np.delete(labels, 578, 0)\n",
        "\n",
        "    events = np.column_stack((np.array(ev),\n",
        "                          np.zeros(eventLength,  dtype = int),\n",
        "                          np.array(labels)))\n",
        "\n",
        "    #get time intervals around each y\n",
        "    stim_slices = [participant_data['cnt']['x'][int(idx/5)-60:int(idx/5)+240] for idx in participant_data['mrk']['time']]\n",
        "    # stim_slices = [participant_data['cnt']['x'][int(idx/5)-340:int(idx/5)+240] for idx in participant_data['mrk']['time']]\n",
        "\n",
        "\n",
        "    # stim_slices.pop(578) #remove duplicates\n",
        "\n",
        "    #reshape data\n",
        "    npdata = np.array(stim_slices, dtype=object,)\n",
        "    npdata = np.swapaxes(npdata, 1,2)\n",
        "    npdata = np.delete(npdata, 0, 1)\n",
        "    npdata = np.delete(npdata, 4, 1)\n",
        "    npdata = np.delete(npdata, np.s_[59:], 1)\n",
        "\n",
        "    # tmin = 0\n",
        "    #     # Create the :class:`mne.EpochsArray` object\n",
        "    # epochs = mne.EpochsArray(npdata, info, events, tmin, event_id)\n",
        "\n",
        "    raw_data = np.swapaxes(np.array(participant_data['cnt']['x']), 0, 1)\n",
        "\n",
        "    raw_data = np.delete(raw_data, 0, 0)\n",
        "    raw_data = np.delete(raw_data, 4, 0)\n",
        "    raw_data = np.delete(raw_data, np.s_[59:], 0)\n",
        "\n",
        "    raw_eeg = mne.io.RawArray(raw_data,info, verbose=True)\n",
        "\n",
        "\n",
        "    epochs = mne.Epochs(raw_eeg, events, event_id=event_id, tmin=-0.3, tmax=1.2, preload=True, event_repeated='drop', verbose=True)\n",
        "    # epochs = mne.Epochs(raw_eeg, events, event_id=event_id, tmin=-1.7, tmax=1.2, preload=True, event_repeated='drop', verbose=True)\n",
        "\n",
        "\n",
        "\n",
        "    return raw_eeg, epochs\n"
      ]
    },
    {
      "cell_type": "code",
      "execution_count": 5,
      "metadata": {
        "id": "xoeQzr-RqAdZ"
      },
      "outputs": [],
      "source": [
        "#processing MATLAB Function\n",
        "\n",
        "import mat73\n",
        "import numpy as np\n",
        "import mne\n",
        "\n",
        "\n",
        "chan_names = ['EOGv', 'Fp1', 'Fp2', 'AF3', 'AF4', 'EOGh', 'F7', 'F5', 'F3', 'F1' , 'Fz' , 'F2' , 'F4' , 'F6' , 'F8' , 'FT7' , 'FC5' , 'FC3' ,\n",
        "              'FC1' , 'FCz' , 'FC2' , 'FC4' , 'FC6' , 'FT8' , 'T7' , 'C5' , 'C3' , 'C1' , 'Cz' , 'C2' , 'C4' , 'C6' , 'T8' , 'TP7' , 'CP5' ,\n",
        "              'CP3' , 'CP1' , 'CPz' , 'CP2' , 'CP4' , 'CP6' , 'TP8' , 'P9' , 'P7' , 'P5' , 'P3' , 'P1' , 'Pz' , 'P2' , 'P4' , 'P6' , 'P8' ,\n",
        "            'P10' , 'PO7' , 'PO3' , 'POz' , 'PO4' , 'PO8' , 'O1' , 'Oz' , 'O2' , 'EMGf' , 'lead_gas','lead_brake','dist_to_lead',\n",
        "              'wheel_X','wheel_Y','gas','brake']\n",
        "\n",
        "\n",
        "\n",
        "def load_MATLAB_data_train(dir=None, participant_data=None):\n",
        "    if dir==None and participant_data==None: raise Exception(\"Must provide directory or dicitionary\")\n",
        "    # print(dir)\n",
        "    #load data\n",
        "    if participant_data == None:\n",
        "      participant_data = mat73.loadmat(dir)\n",
        "\n",
        "    eeg_names = chan_names[1:61]\n",
        "    eeg_names.pop(4)\n",
        "\n",
        "\n",
        "    #create MNE info object\n",
        "    sfreq = 200\n",
        "    n_channels = 59\n",
        "    # Initialize an info structure\n",
        "    info = mne.create_info(\n",
        "            ch_names = eeg_names,\n",
        "            ch_types = ['eeg']*n_channels,\n",
        "            sfreq    = sfreq\n",
        "            )\n",
        "\n",
        "    info.set_montage('standard_1020')\n",
        "\n",
        "    #create labels\n",
        "    # Y  = participant_data['mrk']['y']\n",
        "    # print(participant_data['mrk']['y'].shape)\n",
        "    Y  = participant_data['mrk']['y'][0:2]\n",
        "    eventLength = Y.shape[0]\n",
        "\n",
        "    mask = (Y > 0)\n",
        "    idx = mask.any(axis=0)\n",
        "    Y = Y[:, idx]\n",
        "\n",
        "    print(Y.shape)\n",
        "    Y = np.rollaxis(Y, 1, 0)\n",
        "    loc, ind = np.where(Y>0)\n",
        "    np.unique(ind)\n",
        "    labels = ind + 1\n",
        "\n",
        "    #create event dict\n",
        "    # event_id = dict(car_normal = 1, car_brake = 2,\tcar_hold = 3,\tcar_collision = 4,\treact_emg = 5)\n",
        "    event_id = dict(car_normal = 1, car_brake = 2)\n",
        "\n",
        "    ev =[]\n",
        "    for i in range(eventLength):\n",
        "      if participant_data['mrk']['y'][0][i]==1.0 or participant_data['mrk']['y'][1][i]==1.0:\n",
        "        ev.append(int(participant_data['mrk']['time'][i]/5))\n",
        "\n",
        "    ev = np.array(ev)\n",
        "    print(ev.shape)\n",
        "    print(labels.shape)\n",
        "    # ev = np.array([int(participant_data['mrk']['time'][i]/5) for i in range(eventLength)])\n",
        "    #delete duplicates\n",
        "    # ev = np.delete(ev, 578, 0)\n",
        "    # labels = np.delete(labels, 578, 0)\n",
        "\n",
        "    events = np.column_stack((np.array(ev),\n",
        "                          np.zeros(eventLength,  dtype = int),\n",
        "                          np.array(labels)))\n",
        "\n",
        "    #get time intervals around each y\n",
        "    # stim_slices = [participant_data['cnt']['x'][int(idx/5)-60:int(idx/5)+240] for idx in participant_data['mrk']['time']]\n",
        "    # stim_slices = [participant_data['cnt']['x'][int(idx/5)-60:int(idx/5)+240] for idx in participant_data['mrk']['time']]\n",
        "    stim_slices = []\n",
        "    for i in range(eventLength):\n",
        "      if participant_data['mrk']['y'][0][i]==1.0 or participant_data['mrk']['y'][1][i]==1.0:\n",
        "        idx = participant_data['mrk']['time'][i]\n",
        "        stim_slices.append(participant_data['cnt']['x'][int(idx/5)-60:int(idx/5)+240])\n",
        "\n",
        "    # stim_slices.pop(578) #remove duplicates\n",
        "\n",
        "    #reshape data\n",
        "    npdata = np.array(stim_slices, dtype=object,)\n",
        "    npdata = np.swapaxes(npdata, 1,2)\n",
        "    npdata = np.delete(npdata, 0, 1)\n",
        "    npdata = np.delete(npdata, 4, 1)\n",
        "    npdata = np.delete(npdata, np.s_[59:], 1)\n",
        "\n",
        "    # tmin = 0\n",
        "    #     # Create the :class:`mne.EpochsArray` object\n",
        "    # epochs = mne.EpochsArray(npdata, info, events, tmin, event_id)\n",
        "\n",
        "    raw_data = np.swapaxes(np.array(participant_data['cnt']['x']), 0, 1)\n",
        "\n",
        "    raw_data = np.delete(raw_data, 0, 0)\n",
        "    raw_data = np.delete(raw_data, 4, 0)\n",
        "    raw_data = np.delete(raw_data, np.s_[59:], 0)\n",
        "\n",
        "    raw_eeg = mne.io.RawArray(raw_data,info, verbose=True)\n",
        "\n",
        "\n",
        "    epochs = mne.Epochs(raw_eeg, events, event_id=event_id, tmin=-0.3, tmax=1.2, preload=True, event_repeated='drop', verbose=True)\n",
        "    # epochs = mne.Epochs(raw_eeg, events, event_id=event_id, tmin=-1.7, tmax=1.2, preload=True, event_repeated='drop', verbose=True)\n",
        "\n",
        "\n",
        "\n",
        "    return raw_eeg, epochs\n"
      ]
    },
    {
      "cell_type": "markdown",
      "metadata": {
        "id": "p1bocjYTfbvP"
      },
      "source": [
        "## Load Data for: VPae.mat"
      ]
    },
    {
      "cell_type": "code",
      "execution_count": 3,
      "metadata": {
        "colab": {
          "base_uri": "https://localhost:8080/",
          "height": 304
        },
        "id": "8JEWa7ryrOUV",
        "outputId": "1533355b-7e6c-42c5-ef8a-e8869e49266f"
      },
      "outputs": [
        {
          "ename": "NameError",
          "evalue": "name 'load_MATLAB_data_train' is not defined",
          "output_type": "error",
          "traceback": [
            "\u001b[1;31m---------------------------------------------------------------------------\u001b[0m",
            "\u001b[1;31mNameError\u001b[0m                                 Traceback (most recent call last)",
            "\u001b[1;32mc:\\Users\\G7\\Desktop\\EEG_Analysis\\CSP_LDA.ipynb Cell 5\u001b[0m line \u001b[0;36m1\n\u001b[1;32m----> <a href='vscode-notebook-cell:/c%3A/Users/G7/Desktop/EEG_Analysis/CSP_LDA.ipynb#W4sZmlsZQ%3D%3D?line=0'>1</a>\u001b[0m raw, epochs \u001b[39m=\u001b[39m load_MATLAB_data_train(\u001b[39mdir\u001b[39m\u001b[39m=\u001b[39m\u001b[39m\"\u001b[39m\u001b[39mVPgae.mat\u001b[39m\u001b[39m\"\u001b[39m)\n",
            "\u001b[1;31mNameError\u001b[0m: name 'load_MATLAB_data_train' is not defined"
          ]
        }
      ],
      "source": [
        "raw, epochs = load_MATLAB_data_train(dir=\"VPgae.mat\")"
      ]
    },
    {
      "cell_type": "code",
      "execution_count": 4,
      "metadata": {
        "colab": {
          "base_uri": "https://localhost:8080/"
        },
        "id": "gZ330V-Oe7H7",
        "outputId": "a85f16d3-56f2-441b-cdad-2a330a6b9c99"
      },
      "outputs": [
        {
          "name": "stdout",
          "output_type": "stream",
          "text": [
            "Creating RawArray with float64 data, n_channels=59, n_times=1619688\n",
            "    Range : 0 ... 1619687 =      0.000 ...  8098.435 secs\n",
            "Ready.\n",
            "Multiple event values for single event times found. Keeping the first occurrence and dropping all others.\n",
            "Not setting metadata\n",
            "973 matching events found\n",
            "Setting baseline interval to [-0.3, 0.0] s\n",
            "Applying baseline correction (mode: mean)\n",
            "0 projection items activated\n",
            "Using data from preloaded Raw for 973 events and 301 original time points ...\n",
            "0 bad epochs dropped\n"
          ]
        }
      ],
      "source": [
        "raw, epochs = load_MATLAB_data(dir=\"VPgae.mat\")"
      ]
    },
    {
      "cell_type": "code",
      "execution_count": null,
      "metadata": {
        "colab": {
          "base_uri": "https://localhost:8080/"
        },
        "id": "FpmvfLWqthUi",
        "outputId": "8bb55ea1-02b2-4b42-aeaa-5ec2fb326c94"
      },
      "outputs": [
        {
          "data": {
            "text/plain": [
              "array([[[ -11.01779773,  -10.00829427,  -11.6234998 , ...,\n",
              "          -22.92993855,  -23.23278959,  -22.12233578],\n",
              "        [   4.71840089,    5.02051794,    3.30852132, ...,\n",
              "          -28.61518029,  -29.72294281,  -30.62929396],\n",
              "        [   1.91042728,    1.91042728,   -0.2907746 , ...,\n",
              "          -23.10323043,  -23.30333969,  -22.80306654],\n",
              "        ...,\n",
              "        [  17.69975487,   16.59513986,   14.78758803, ...,\n",
              "          -25.78190868,  -28.29239734,  -29.69827099],\n",
              "        [  13.89870549,   13.19813513,   11.29658701, ...,\n",
              "          -19.62859035,  -23.23152363,  -24.93290879],\n",
              "        [  16.25173621,   15.8485392 ,   14.03415267, ...,\n",
              "          -11.87125495,  -14.59283474,  -16.40722127]],\n",
              "\n",
              "       [[   8.95320033,    4.61233545,    1.78572577, ...,\n",
              "            0.77622231,    1.98762646,    4.61233545],\n",
              "        [  13.92691676,    8.48880986,    3.25211432, ...,\n",
              "            5.66905072,    5.26622799,    5.87046209],\n",
              "        [   9.01430607,    3.91151989,   -0.2907746 , ...,\n",
              "          -16.1994609 ,  -15.29896923,  -13.09776735],\n",
              "        ...,\n",
              "        [  17.62112725,   12.60014994,    6.77581625, ...,\n",
              "          -13.40851256,  -15.61774258,  -15.71816212],\n",
              "        [   8.9087192 ,    3.60440075,   -2.70073249, ...,\n",
              "          -17.51279155,  -21.01564335,  -22.81711   ],\n",
              "        [   9.26702796,    4.63026239,   -2.52648446, ...,\n",
              "          -24.29912278,  -29.0366876 ,  -31.95986589]],\n",
              "\n",
              "       [[  -3.69697337,   -3.19222164,   -6.01883133, ...,\n",
              "          -25.19939706,  -24.1898936 ,  -27.9250564 ],\n",
              "        [  -7.49002211,   -5.07308571,   -5.07308571, ...,\n",
              "          -22.59587461,  -26.82551331,  -31.65938611],\n",
              "        [  -3.20556259,   -1.10441534,   -1.50463386, ...,\n",
              "          -11.81026084,  -11.61015158,  -18.01364795],\n",
              "        ...,\n",
              "        [ -16.33982096,  -14.53226912,  -14.23101049, ...,\n",
              "           -3.38569948,   -0.77479128,   -7.50290088],\n",
              "        [ -14.5622956 ,  -14.26205116,  -14.96262152, ...,\n",
              "            1.45074122,    6.05448931,    0.44992642],\n",
              "        [ -13.26204814,  -13.9676429 ,  -15.37883242, ...,\n",
              "           10.22417745,   13.95374975,    7.50259766]],\n",
              "\n",
              "       ...,\n",
              "\n",
              "       [[ -22.49978942,  -26.43685291,  -30.5758171 , ...,\n",
              "          -40.77180204,  -41.27655377,  -38.34899374],\n",
              "        [ -17.84941789,  -23.28752479,  -28.624926  , ...,\n",
              "          -85.72504845,  -85.82575413,  -82.30105522],\n",
              "        [ -33.25393411,  -39.65743048,  -45.16043518, ...,\n",
              "          -73.37584108,  -72.67545866,  -67.97289101],\n",
              "        ...,\n",
              "        [   5.09960494,   -3.63689559,  -12.77507431, ...,\n",
              "           47.37623393,   44.96616482,   46.27161892],\n",
              "        [   3.32411391,   -5.28289338,  -13.58965623, ...,\n",
              "           18.43641741,   15.33389153,   16.13454337],\n",
              "        [  -0.76973974,   -9.23687686,  -17.50241548, ...,\n",
              "           40.65875262,   35.9211878 ,   35.41719154]],\n",
              "\n",
              "       [[  -8.13642026,   -6.92501611,  -10.96302994, ...,\n",
              "          -24.69227699,  -17.52480243,  -14.90009344],\n",
              "        [  -7.61140052,   -6.90646073,  -11.23680512, ...,\n",
              "          -14.9629154 ,   -7.1078721 ,   -5.69799253],\n",
              "        [   5.48041171,    6.68106728,    2.1786089 , ...,\n",
              "          -15.3309515 ,   -8.02696345,   -5.72570694],\n",
              "        ...,\n",
              "        [ -12.00941208,   -9.59934297,  -13.61612482, ...,\n",
              "           36.89490698,   40.51001064,   39.80707382],\n",
              "        [  -4.03847849,   -2.13693037,   -6.74067846, ...,\n",
              "           10.17309168,   14.77683977,   14.77683977],\n",
              "        [   1.40586874,    1.909865  ,   -4.13809009, ...,\n",
              "           35.98001199,   40.31437981,   39.7095843 ]],\n",
              "\n",
              "       [[  -4.24080266,    2.01811879,   -2.52464677, ...,\n",
              "         -132.44774201, -130.42873509, -128.00592679],\n",
              "        [ -65.84940859,  -58.69930507,  -62.7275324 , ...,\n",
              "         -157.29016904, -154.67182128, -151.14712236],\n",
              "        [ -71.77878138,  -65.27523038,  -71.07839897, ...,\n",
              "         -187.54198926, -186.24127906, -184.4402957 ],\n",
              "        ...,\n",
              "        [ 106.50479413,  111.02367371,  103.29136865, ...,\n",
              "          -15.90663283,  -11.99027052,   -9.07810368],\n",
              "        [  76.54149421,   81.74573118,   74.43978313, ...,\n",
              "            7.58535441,   10.08739141,   11.28836917],\n",
              "        [  54.46381608,   59.60457791,   52.3470318 , ...,\n",
              "          -18.41404273,  -17.70844797,  -18.61564123]]])"
            ]
          },
          "execution_count": 7,
          "metadata": {},
          "output_type": "execute_result"
        }
      ],
      "source": [
        "epochs[\"car_brake\", \"car_normal\"].get_data()"
      ]
    },
    {
      "cell_type": "markdown",
      "metadata": {},
      "source": [
        "## Different Data"
      ]
    },
    {
      "cell_type": "code",
      "execution_count": 38,
      "metadata": {
        "id": "bndz9DL8lhjO"
      },
      "outputs": [],
      "source": [
        "import mat73\n",
        "import numpy as np\n",
        "import mne\n",
        "\n",
        "\n",
        "participant_data = mat73.loadmat(\"VPdx.mat\")\n",
        "\n",
        "labels = []\n",
        "non_targets = []\n",
        "data_pairs = list(zip(participant_data['mrk']['time'], participant_data['mrk']['time'][1:]))\n",
        "data_pairs = [(int(a[0]/5), int(a[1]/5)) for a in data_pairs]\n",
        "# npTarget = np.delete(npTarget, npFiltered, 1)\n",
        "for pr in data_pairs:\n",
        "    counter = pr[0] + 600\n",
        "    while (counter < pr[1]-900):\n",
        "        # non_targets.append(vpae_dict['cnt']['x'][counter:counter+301])\n",
        "        non_targets.append(counter)\n",
        "        labels.append(1)\n",
        "        counter += 301\n",
        "\n",
        "ev = []\n",
        "for i in range(participant_data['mrk']['y'].shape[1]):\n",
        "    if participant_data['mrk']['y'][1][i]:\n",
        "        ev.append(int(participant_data['mrk']['time'][i]/5))\n",
        "        labels.append(2)\n",
        "ev = np.array(ev)\n",
        "labels = np.array(labels)\n",
        "\n",
        "\n",
        "non_targets = np.array(non_targets)\n",
        "\n",
        "evs = np.concatenate((non_targets, ev))\n",
        "\n",
        "events = np.column_stack((np.array(evs),\n",
        "                        np.zeros(evs.shape[0],  dtype = int),\n",
        "                        np.array(labels)))"
      ]
    },
    {
      "cell_type": "code",
      "execution_count": 39,
      "metadata": {
        "colab": {
          "base_uri": "https://localhost:8080/"
        },
        "id": "qeID6AOSlZq9",
        "outputId": "15dffa10-03b6-4faf-da16-90e82ab5bcd3"
      },
      "outputs": [
        {
          "name": "stdout",
          "output_type": "stream",
          "text": [
            "(4119, 3)\n",
            "Creating RawArray with float64 data, n_channels=59, n_times=1619949\n",
            "    Range : 0 ... 1619948 =      0.000 ...  8099.740 secs\n",
            "Ready.\n",
            "Not setting metadata\n",
            "4119 matching events found\n",
            "Setting baseline interval to [-0.3, 0.0] s\n",
            "Applying baseline correction (mode: mean)\n",
            "0 projection items activated\n",
            "Using data from preloaded Raw for 4119 events and 301 original time points ...\n"
          ]
        },
        {
          "name": "stderr",
          "output_type": "stream",
          "text": [
            "C:\\Users\\G7\\AppData\\Local\\Temp\\ipykernel_20708\\957108914.py:36: RuntimeWarning: The events passed to the Epochs constructor are not chronologically ordered.\n",
            "  epochs = mne.Epochs(raw_eeg, events, event_id=event_id, tmin=-0.3, tmax=1.2, preload=True, event_repeated='drop', verbose=True)\n"
          ]
        },
        {
          "name": "stdout",
          "output_type": "stream",
          "text": [
            "0 bad epochs dropped\n"
          ]
        }
      ],
      "source": [
        "print(events.shape)\n",
        "# print(Y[:,1].shape)\n",
        "# print(Y[:,1][Y[:,1] == 1].shape)\n",
        "\n",
        "chan_names = ['EOGv', 'Fp1', 'Fp2', 'AF3', 'AF4', 'EOGh', 'F7', 'F5', 'F3', 'F1' , 'Fz' , 'F2' , 'F4' , 'F6' , 'F8' , 'FT7' , 'FC5' , 'FC3' ,\n",
        "              'FC1' , 'FCz' , 'FC2' , 'FC4' , 'FC6' , 'FT8' , 'T7' , 'C5' , 'C3' , 'C1' , 'Cz' , 'C2' , 'C4' , 'C6' , 'T8' , 'TP7' , 'CP5' ,\n",
        "              'CP3' , 'CP1' , 'CPz' , 'CP2' , 'CP4' , 'CP6' , 'TP8' , 'P9' , 'P7' , 'P5' , 'P3' , 'P1' , 'Pz' , 'P2' , 'P4' , 'P6' , 'P8' ,\n",
        "            'P10' , 'PO7' , 'PO3' , 'POz' , 'PO4' , 'PO8' , 'O1' , 'Oz' , 'O2' , 'EMGf' , 'lead_gas','lead_brake','dist_to_lead',\n",
        "              'wheel_X','wheel_Y','gas','brake']\n",
        "\n",
        "eeg_names = chan_names[1:61]\n",
        "eeg_names.pop(4)\n",
        "#create MNE info object\n",
        "sfreq = 200\n",
        "n_channels = 59\n",
        "# Initialize an info structure\n",
        "info = mne.create_info(\n",
        "        ch_names = eeg_names,\n",
        "        ch_types = ['eeg']*n_channels,\n",
        "        sfreq    = sfreq\n",
        "        )\n",
        "\n",
        "info.set_montage('standard_1020')\n",
        "event_id = dict(car_normal = 1, car_brake = 2)\n",
        "\n",
        "raw_data = np.swapaxes(np.array(participant_data['cnt']['x']), 0, 1)\n",
        "\n",
        "raw_data = np.delete(raw_data, 0, 0)\n",
        "raw_data = np.delete(raw_data, 4, 0)\n",
        "raw_data = np.delete(raw_data, np.s_[59:], 0)\n",
        "\n",
        "raw_eeg = mne.io.RawArray(raw_data,info, verbose=True)\n",
        "\n",
        "\n",
        "# epochs = mne.Epochs(raw_eeg, events, event_id=event_id, tmin=-1.7, tmax=1.2, preload=True, event_repeated='drop', verbose=True)\n",
        "epochs = mne.Epochs(raw_eeg, events, event_id=event_id, tmin=-0.3, tmax=1.2, preload=True, event_repeated='drop', verbose=True)"
      ]
    },
    {
      "cell_type": "markdown",
      "metadata": {
        "id": "Caq-XMQwfh5J"
      },
      "source": [
        "## Import MNE stuff"
      ]
    },
    {
      "cell_type": "code",
      "execution_count": 44,
      "metadata": {
        "id": "SpamUrzIfFII"
      },
      "outputs": [],
      "source": [
        "import matplotlib.pyplot as plt\n",
        "import numpy as np\n",
        "from sklearn.discriminant_analysis import LinearDiscriminantAnalysis\n",
        "from sklearn.model_selection import ShuffleSplit, cross_val_score\n",
        "from sklearn.pipeline import Pipeline\n",
        "from sklearn.metrics import precision_score, recall_score, f1_score, roc_auc_score\n",
        "from sklearn.model_selection import StratifiedKFold\n",
        "from sklearn.metrics import classification_report, confusion_matrix\n",
        "\n",
        "from mne import Epochs, events_from_annotations, pick_types\n",
        "from mne.channels import make_standard_montage\n",
        "from mne.datasets import eegbci\n",
        "from mne.decoding import CSP\n",
        "from mne.io import concatenate_raws, read_raw_edf\n",
        "\n",
        "from mne.decoding import Vectorizer\n",
        "from mne.preprocessing import Xdawn\n",
        "from sklearn.decomposition import PCA\n",
        "\n",
        "\n",
        "epochs_train = epochs.copy() #.crop(tmin=1.0, tmax=2.0)\n",
        "labels = epochs[\"car_normal\", \"car_brake\"].events[:, -1] - 2"
      ]
    },
    {
      "cell_type": "markdown",
      "metadata": {
        "id": "hLJ0xoBmgEp3"
      },
      "source": [
        "## Classification with linear discrimant analysis\n",
        "\n"
      ]
    },
    {
      "cell_type": "code",
      "execution_count": 45,
      "metadata": {},
      "outputs": [
        {
          "data": {
            "text/plain": [
              "array([-1, -1, -1, ...,  0,  0,  0])"
            ]
          },
          "execution_count": 45,
          "metadata": {},
          "output_type": "execute_result"
        }
      ],
      "source": [
        "epochs_data.shape\n",
        "labels"
      ]
    },
    {
      "cell_type": "code",
      "execution_count": 46,
      "metadata": {
        "colab": {
          "base_uri": "https://localhost:8080/",
          "height": 1000
        },
        "id": "eUzl8iT5ft0W",
        "outputId": "48dc8461-f470-4b14-abbf-7034012fbbc7"
      },
      "outputs": [
        {
          "name": "stdout",
          "output_type": "stream",
          "text": [
            "Computing rank from data with rank=None\n",
            "    Using tolerance 9.4e+03 (2.2e-16 eps * 59 dim * 7.2e+17  max singular value)\n",
            "    Estimated rank (mag): 59\n",
            "    MAG: rank 59 computed from 59 data channels with 0 projectors\n",
            "Reducing data rank from 59 -> 59\n",
            "Estimating covariance using EMPIRICAL\n",
            "Done.\n",
            "Computing rank from data with rank=None\n",
            "    Using tolerance 8.3e+02 (2.2e-16 eps * 59 dim * 6.3e+16  max singular value)\n",
            "    Estimated rank (mag): 59\n",
            "    MAG: rank 59 computed from 59 data channels with 0 projectors\n",
            "Reducing data rank from 59 -> 59\n",
            "Estimating covariance using EMPIRICAL\n",
            "Done.\n",
            "Computing rank from data with rank=None\n",
            "    Using tolerance 9.2e+03 (2.2e-16 eps * 59 dim * 7e+17  max singular value)\n",
            "    Estimated rank (mag): 59\n",
            "    MAG: rank 59 computed from 59 data channels with 0 projectors\n",
            "Reducing data rank from 59 -> 59\n",
            "Estimating covariance using EMPIRICAL\n",
            "Done.\n",
            "Computing rank from data with rank=None\n",
            "    Using tolerance 7.3e+02 (2.2e-16 eps * 59 dim * 5.5e+16  max singular value)\n",
            "    Estimated rank (mag): 59\n",
            "    MAG: rank 59 computed from 59 data channels with 0 projectors\n",
            "Reducing data rank from 59 -> 59\n",
            "Estimating covariance using EMPIRICAL\n",
            "Done.\n",
            "Computing rank from data with rank=None\n",
            "    Using tolerance 9.4e+03 (2.2e-16 eps * 59 dim * 7.2e+17  max singular value)\n",
            "    Estimated rank (mag): 59\n",
            "    MAG: rank 59 computed from 59 data channels with 0 projectors\n",
            "Reducing data rank from 59 -> 59\n",
            "Estimating covariance using EMPIRICAL\n",
            "Done.\n",
            "Computing rank from data with rank=None\n",
            "    Using tolerance 7.2e+02 (2.2e-16 eps * 59 dim * 5.5e+16  max singular value)\n",
            "    Estimated rank (mag): 59\n",
            "    MAG: rank 59 computed from 59 data channels with 0 projectors\n",
            "Reducing data rank from 59 -> 59\n",
            "Estimating covariance using EMPIRICAL\n",
            "Done.\n",
            "Computing rank from data with rank=None\n",
            "    Using tolerance 1e+04 (2.2e-16 eps * 59 dim * 7.7e+17  max singular value)\n",
            "    Estimated rank (mag): 59\n",
            "    MAG: rank 59 computed from 59 data channels with 0 projectors\n",
            "Reducing data rank from 59 -> 59\n",
            "Estimating covariance using EMPIRICAL\n",
            "Done.\n",
            "Computing rank from data with rank=None\n",
            "    Using tolerance 7.9e+02 (2.2e-16 eps * 59 dim * 6.1e+16  max singular value)\n",
            "    Estimated rank (mag): 59\n",
            "    MAG: rank 59 computed from 59 data channels with 0 projectors\n",
            "Reducing data rank from 59 -> 59\n",
            "Estimating covariance using EMPIRICAL\n",
            "Done.\n",
            "Computing rank from data with rank=None\n",
            "    Using tolerance 9.5e+03 (2.2e-16 eps * 59 dim * 7.3e+17  max singular value)\n",
            "    Estimated rank (mag): 59\n",
            "    MAG: rank 59 computed from 59 data channels with 0 projectors\n",
            "Reducing data rank from 59 -> 59\n",
            "Estimating covariance using EMPIRICAL\n",
            "Done.\n",
            "Computing rank from data with rank=None\n",
            "    Using tolerance 7.8e+02 (2.2e-16 eps * 59 dim * 5.9e+16  max singular value)\n",
            "    Estimated rank (mag): 59\n",
            "    MAG: rank 59 computed from 59 data channels with 0 projectors\n",
            "Reducing data rank from 59 -> 59\n",
            "Estimating covariance using EMPIRICAL\n",
            "Done.\n",
            "Computing rank from data with rank=None\n",
            "    Using tolerance 9.1e+03 (2.2e-16 eps * 59 dim * 6.9e+17  max singular value)\n",
            "    Estimated rank (mag): 59\n",
            "    MAG: rank 59 computed from 59 data channels with 0 projectors\n",
            "Reducing data rank from 59 -> 59\n",
            "Estimating covariance using EMPIRICAL\n",
            "Done.\n",
            "Computing rank from data with rank=None\n",
            "    Using tolerance 7.4e+02 (2.2e-16 eps * 59 dim * 5.7e+16  max singular value)\n",
            "    Estimated rank (mag): 59\n",
            "    MAG: rank 59 computed from 59 data channels with 0 projectors\n",
            "Reducing data rank from 59 -> 59\n",
            "Estimating covariance using EMPIRICAL\n",
            "Done.\n",
            "Computing rank from data with rank=None\n",
            "    Using tolerance 9.5e+03 (2.2e-16 eps * 59 dim * 7.2e+17  max singular value)\n",
            "    Estimated rank (mag): 59\n",
            "    MAG: rank 59 computed from 59 data channels with 0 projectors\n",
            "Reducing data rank from 59 -> 59\n",
            "Estimating covariance using EMPIRICAL\n",
            "Done.\n",
            "Computing rank from data with rank=None\n",
            "    Using tolerance 7.4e+02 (2.2e-16 eps * 59 dim * 5.7e+16  max singular value)\n",
            "    Estimated rank (mag): 59\n",
            "    MAG: rank 59 computed from 59 data channels with 0 projectors\n",
            "Reducing data rank from 59 -> 59\n",
            "Estimating covariance using EMPIRICAL\n",
            "Done.\n",
            "Computing rank from data with rank=None\n",
            "    Using tolerance 1e+04 (2.2e-16 eps * 59 dim * 7.9e+17  max singular value)\n",
            "    Estimated rank (mag): 59\n",
            "    MAG: rank 59 computed from 59 data channels with 0 projectors\n",
            "Reducing data rank from 59 -> 59\n",
            "Estimating covariance using EMPIRICAL\n",
            "Done.\n",
            "Computing rank from data with rank=None\n",
            "    Using tolerance 7.2e+02 (2.2e-16 eps * 59 dim * 5.5e+16  max singular value)\n",
            "    Estimated rank (mag): 59\n",
            "    MAG: rank 59 computed from 59 data channels with 0 projectors\n",
            "Reducing data rank from 59 -> 59\n",
            "Estimating covariance using EMPIRICAL\n",
            "Done.\n",
            "Computing rank from data with rank=None\n",
            "    Using tolerance 1e+04 (2.2e-16 eps * 59 dim * 7.6e+17  max singular value)\n",
            "    Estimated rank (mag): 59\n",
            "    MAG: rank 59 computed from 59 data channels with 0 projectors\n",
            "Reducing data rank from 59 -> 59\n",
            "Estimating covariance using EMPIRICAL\n",
            "Done.\n",
            "Computing rank from data with rank=None\n",
            "    Using tolerance 7.6e+02 (2.2e-16 eps * 59 dim * 5.8e+16  max singular value)\n",
            "    Estimated rank (mag): 59\n",
            "    MAG: rank 59 computed from 59 data channels with 0 projectors\n",
            "Reducing data rank from 59 -> 59\n",
            "Estimating covariance using EMPIRICAL\n",
            "Done.\n",
            "Computing rank from data with rank=None\n",
            "    Using tolerance 9.2e+03 (2.2e-16 eps * 59 dim * 7e+17  max singular value)\n",
            "    Estimated rank (mag): 59\n",
            "    MAG: rank 59 computed from 59 data channels with 0 projectors\n",
            "Reducing data rank from 59 -> 59\n",
            "Estimating covariance using EMPIRICAL\n",
            "Done.\n",
            "Computing rank from data with rank=None\n",
            "    Using tolerance 7.8e+02 (2.2e-16 eps * 59 dim * 6e+16  max singular value)\n",
            "    Estimated rank (mag): 59\n",
            "    MAG: rank 59 computed from 59 data channels with 0 projectors\n",
            "Reducing data rank from 59 -> 59\n",
            "Estimating covariance using EMPIRICAL\n",
            "Done.\n",
            "Classification accuracy: 0.950364 / Chance level: 0.949988\n",
            "Computing rank from data with rank=None\n",
            "    Using tolerance 1.2e+04 (2.2e-16 eps * 59 dim * 9.2e+17  max singular value)\n",
            "    Estimated rank (mag): 59\n",
            "    MAG: rank 59 computed from 59 data channels with 0 projectors\n",
            "Reducing data rank from 59 -> 59\n",
            "Estimating covariance using EMPIRICAL\n",
            "Done.\n",
            "Computing rank from data with rank=None\n",
            "    Using tolerance 9.7e+02 (2.2e-16 eps * 59 dim * 7.4e+16  max singular value)\n",
            "    Estimated rank (mag): 59\n",
            "    MAG: rank 59 computed from 59 data channels with 0 projectors\n",
            "Reducing data rank from 59 -> 59\n",
            "Estimating covariance using EMPIRICAL\n",
            "Done.\n"
          ]
        },
        {
          "data": {
            "text/plain": [
              "array([[-2.39121575,  0.26954849,  0.61411149, -0.49900097, -0.55790402],\n",
              "       [-1.5637196 ,  0.13974653,  0.10884214,  0.78635276, -0.86159217],\n",
              "       [-0.90791937,  0.60106099, -0.48124962, -1.29256165, -1.15382182],\n",
              "       ...,\n",
              "       [-0.99297656, -1.05534797, -0.72712512, -1.02181511,  1.06308145],\n",
              "       [-0.8757687 ,  0.65852289,  1.59752572, -1.47380163,  1.06852276],\n",
              "       [-1.17509391,  0.02528074,  0.48682586, -0.56189911, -0.81584829]])"
            ]
          },
          "execution_count": 46,
          "metadata": {},
          "output_type": "execute_result"
        }
      ],
      "source": [
        "# Define a monte-carlo cross-validation generator (reduce variance):\n",
        "scores = []\n",
        "epochs_data = epochs[\"car_normal\", \"car_brake\"].get_data()\n",
        "epochs_data_train = epochs_train[\"car_normal\", \"car_brake\"].get_data()\n",
        "\n",
        "# oversample = SMOTE()\n",
        "# epochs_data_train, labels = oversample.fit_resample(epochs_data_train, labels)\n",
        "\n",
        "cv = ShuffleSplit(10, test_size=0.4, random_state=42)\n",
        "cv_split = cv.split(epochs_data_train)\n",
        "\n",
        "# Assemble a classifier\n",
        "lda = LinearDiscriminantAnalysis()\n",
        "csp = CSP(n_components=8, reg=None, log=True, norm_trace=False)\n",
        "pca = PCA(n_components=5)\n",
        "\n",
        "\n",
        "# Use scikit-learn Pipeline with cross_val_score function\n",
        "\n",
        "clf = Pipeline([(\"CSP\", csp), (\"PCA\", pca), (\"LDA\", lda)])\n",
        "# clf = make_pipeline(\n",
        "#     Xdawn(n_components=n_filter),\n",
        "#     Vectorizer(),\n",
        "#     MinMaxScaler(),\n",
        "#     lda\n",
        "# )\n",
        "\n",
        "scores = cross_val_score(clf, epochs_data_train, labels, cv=cv, n_jobs=None)\n",
        "\n",
        "\n",
        "# Printing the results\n",
        "class_balance = np.mean(labels == labels[0])\n",
        "class_balance = max(class_balance, 1.0 - class_balance)\n",
        "print(\n",
        "    \"Classification accuracy: %f / Chance level: %f\" % (np.mean(scores), class_balance)\n",
        ")\n",
        "\n",
        "# plot CSP patterns estimated on full data for visualization\n",
        "epochs_data = csp.fit_transform(epochs_data, labels)\n",
        "pca.fit_transform(epochs_data, labels)\n",
        "\n",
        "# csp.plot_patterns(epochs.info, ch_type=\"eeg\", units=\"Patterns (AU)\", size=1.5)"
      ]
    },
    {
      "cell_type": "code",
      "execution_count": 47,
      "metadata": {},
      "outputs": [],
      "source": [
        "accs = []\n",
        "aucScores = []\n",
        "scores= []"
      ]
    },
    {
      "cell_type": "code",
      "execution_count": 48,
      "metadata": {},
      "outputs": [
        {
          "name": "stdout",
          "output_type": "stream",
          "text": [
            "(187, 5)\n"
          ]
        }
      ],
      "source": [
        "print(X_test.shape)"
      ]
    },
    {
      "cell_type": "code",
      "execution_count": 49,
      "metadata": {
        "colab": {
          "base_uri": "https://localhost:8080/"
        },
        "id": "GSvs__mdmXEi",
        "outputId": "b5c1e972-0910-4c8b-ae7e-66ffa3a79f12"
      },
      "outputs": [
        {
          "name": "stdout",
          "output_type": "stream",
          "text": [
            "Computing rank from data with rank=None\n",
            "    Using tolerance 9.4e+03 (2.2e-16 eps * 59 dim * 7.2e+17  max singular value)\n",
            "    Estimated rank (mag): 59\n",
            "    MAG: rank 59 computed from 59 data channels with 0 projectors\n",
            "Reducing data rank from 59 -> 59\n",
            "Estimating covariance using EMPIRICAL\n",
            "Done.\n",
            "Computing rank from data with rank=None\n",
            "    Using tolerance 8.3e+02 (2.2e-16 eps * 59 dim * 6.3e+16  max singular value)\n",
            "    Estimated rank (mag): 59\n",
            "    MAG: rank 59 computed from 59 data channels with 0 projectors\n",
            "Reducing data rank from 59 -> 59\n",
            "Estimating covariance using EMPIRICAL\n",
            "Done.\n",
            "Computing rank from data with rank=None\n",
            "    Using tolerance 9.2e+03 (2.2e-16 eps * 59 dim * 7e+17  max singular value)\n",
            "    Estimated rank (mag): 59\n",
            "    MAG: rank 59 computed from 59 data channels with 0 projectors\n",
            "Reducing data rank from 59 -> 59\n",
            "Estimating covariance using EMPIRICAL\n",
            "Done.\n",
            "Computing rank from data with rank=None\n",
            "    Using tolerance 7.3e+02 (2.2e-16 eps * 59 dim * 5.5e+16  max singular value)\n",
            "    Estimated rank (mag): 59\n",
            "    MAG: rank 59 computed from 59 data channels with 0 projectors\n",
            "Reducing data rank from 59 -> 59\n",
            "Estimating covariance using EMPIRICAL\n",
            "Done.\n",
            "Computing rank from data with rank=None\n",
            "    Using tolerance 9.4e+03 (2.2e-16 eps * 59 dim * 7.2e+17  max singular value)\n",
            "    Estimated rank (mag): 59\n",
            "    MAG: rank 59 computed from 59 data channels with 0 projectors\n",
            "Reducing data rank from 59 -> 59\n",
            "Estimating covariance using EMPIRICAL\n",
            "Done.\n",
            "Computing rank from data with rank=None\n",
            "    Using tolerance 7.2e+02 (2.2e-16 eps * 59 dim * 5.5e+16  max singular value)\n",
            "    Estimated rank (mag): 59\n",
            "    MAG: rank 59 computed from 59 data channels with 0 projectors\n",
            "Reducing data rank from 59 -> 59\n",
            "Estimating covariance using EMPIRICAL\n",
            "Done.\n",
            "Computing rank from data with rank=None\n",
            "    Using tolerance 1e+04 (2.2e-16 eps * 59 dim * 7.7e+17  max singular value)\n",
            "    Estimated rank (mag): 59\n",
            "    MAG: rank 59 computed from 59 data channels with 0 projectors\n",
            "Reducing data rank from 59 -> 59\n",
            "Estimating covariance using EMPIRICAL\n",
            "Done.\n",
            "Computing rank from data with rank=None\n",
            "    Using tolerance 7.9e+02 (2.2e-16 eps * 59 dim * 6.1e+16  max singular value)\n",
            "    Estimated rank (mag): 59\n",
            "    MAG: rank 59 computed from 59 data channels with 0 projectors\n",
            "Reducing data rank from 59 -> 59\n",
            "Estimating covariance using EMPIRICAL\n",
            "Done.\n",
            "Computing rank from data with rank=None\n",
            "    Using tolerance 9.5e+03 (2.2e-16 eps * 59 dim * 7.3e+17  max singular value)\n",
            "    Estimated rank (mag): 59\n",
            "    MAG: rank 59 computed from 59 data channels with 0 projectors\n",
            "Reducing data rank from 59 -> 59\n",
            "Estimating covariance using EMPIRICAL\n",
            "Done.\n",
            "Computing rank from data with rank=None\n",
            "    Using tolerance 7.8e+02 (2.2e-16 eps * 59 dim * 5.9e+16  max singular value)\n",
            "    Estimated rank (mag): 59\n",
            "    MAG: rank 59 computed from 59 data channels with 0 projectors\n",
            "Reducing data rank from 59 -> 59\n",
            "Estimating covariance using EMPIRICAL\n",
            "Done.\n",
            "Computing rank from data with rank=None\n",
            "    Using tolerance 9.1e+03 (2.2e-16 eps * 59 dim * 6.9e+17  max singular value)\n",
            "    Estimated rank (mag): 59\n",
            "    MAG: rank 59 computed from 59 data channels with 0 projectors\n",
            "Reducing data rank from 59 -> 59\n",
            "Estimating covariance using EMPIRICAL\n",
            "Done.\n",
            "Computing rank from data with rank=None\n",
            "    Using tolerance 7.4e+02 (2.2e-16 eps * 59 dim * 5.7e+16  max singular value)\n",
            "    Estimated rank (mag): 59\n",
            "    MAG: rank 59 computed from 59 data channels with 0 projectors\n",
            "Reducing data rank from 59 -> 59\n",
            "Estimating covariance using EMPIRICAL\n",
            "Done.\n",
            "Computing rank from data with rank=None\n",
            "    Using tolerance 9.5e+03 (2.2e-16 eps * 59 dim * 7.2e+17  max singular value)\n",
            "    Estimated rank (mag): 59\n",
            "    MAG: rank 59 computed from 59 data channels with 0 projectors\n",
            "Reducing data rank from 59 -> 59\n",
            "Estimating covariance using EMPIRICAL\n",
            "Done.\n",
            "Computing rank from data with rank=None\n",
            "    Using tolerance 7.4e+02 (2.2e-16 eps * 59 dim * 5.7e+16  max singular value)\n",
            "    Estimated rank (mag): 59\n",
            "    MAG: rank 59 computed from 59 data channels with 0 projectors\n",
            "Reducing data rank from 59 -> 59\n",
            "Estimating covariance using EMPIRICAL\n",
            "Done.\n",
            "Computing rank from data with rank=None\n",
            "    Using tolerance 1e+04 (2.2e-16 eps * 59 dim * 7.9e+17  max singular value)\n",
            "    Estimated rank (mag): 59\n",
            "    MAG: rank 59 computed from 59 data channels with 0 projectors\n",
            "Reducing data rank from 59 -> 59\n",
            "Estimating covariance using EMPIRICAL\n",
            "Done.\n",
            "Computing rank from data with rank=None\n",
            "    Using tolerance 7.2e+02 (2.2e-16 eps * 59 dim * 5.5e+16  max singular value)\n",
            "    Estimated rank (mag): 59\n",
            "    MAG: rank 59 computed from 59 data channels with 0 projectors\n",
            "Reducing data rank from 59 -> 59\n",
            "Estimating covariance using EMPIRICAL\n",
            "Done.\n",
            "Computing rank from data with rank=None\n",
            "    Using tolerance 1e+04 (2.2e-16 eps * 59 dim * 7.6e+17  max singular value)\n",
            "    Estimated rank (mag): 59\n",
            "    MAG: rank 59 computed from 59 data channels with 0 projectors\n",
            "Reducing data rank from 59 -> 59\n",
            "Estimating covariance using EMPIRICAL\n",
            "Done.\n",
            "Computing rank from data with rank=None\n",
            "    Using tolerance 7.6e+02 (2.2e-16 eps * 59 dim * 5.8e+16  max singular value)\n",
            "    Estimated rank (mag): 59\n",
            "    MAG: rank 59 computed from 59 data channels with 0 projectors\n",
            "Reducing data rank from 59 -> 59\n",
            "Estimating covariance using EMPIRICAL\n",
            "Done.\n",
            "Computing rank from data with rank=None\n",
            "    Using tolerance 9.2e+03 (2.2e-16 eps * 59 dim * 7e+17  max singular value)\n",
            "    Estimated rank (mag): 59\n",
            "    MAG: rank 59 computed from 59 data channels with 0 projectors\n",
            "Reducing data rank from 59 -> 59\n",
            "Estimating covariance using EMPIRICAL\n",
            "Done.\n",
            "Computing rank from data with rank=None\n",
            "    Using tolerance 7.8e+02 (2.2e-16 eps * 59 dim * 6e+16  max singular value)\n",
            "    Estimated rank (mag): 59\n",
            "    MAG: rank 59 computed from 59 data channels with 0 projectors\n",
            "Reducing data rank from 59 -> 59\n",
            "Estimating covariance using EMPIRICAL\n",
            "Done.\n"
          ]
        },
        {
          "data": {
            "image/png": "[encoded data removed]",
            "text/plain": [
              "<Figure size 640x480 with 2 Axes>"
            ]
          },
          "metadata": {},
          "output_type": "display_data"
        },
        {
          "data": {
            "image/png": "[encoded data removed]",
            "text/plain": [
              "<Figure size 640x480 with 2 Axes>"
            ]
          },
          "metadata": {},
          "output_type": "display_data"
        },
        {
          "data": {
            "image/png": "[encoded data removed]",
            "text/plain": [
              "<Figure size 640x480 with 2 Axes>"
            ]
          },
          "metadata": {},
          "output_type": "display_data"
        },
        {
          "data": {
            "image/png": "[encoded data removed]",
            "text/plain": [
              "<Figure size 640x480 with 2 Axes>"
            ]
          },
          "metadata": {},
          "output_type": "display_data"
        },
        {
          "data": {
            "image/png": "[encoded data removed]",
            "text/plain": [
              "<Figure size 640x480 with 2 Axes>"
            ]
          },
          "metadata": {},
          "output_type": "display_data"
        },
        {
          "data": {
            "image/png": "[encoded data removed]",
            "text/plain": [
              "<Figure size 640x480 with 2 Axes>"
            ]
          },
          "metadata": {},
          "output_type": "display_data"
        },
        {
          "data": {
            "image/png": "[encoded data removed]",
            "text/plain": [
              "<Figure size 640x480 with 2 Axes>"
            ]
          },
          "metadata": {},
          "output_type": "display_data"
        },
        {
          "data": {
            "image/png": "[encoded data removed]",
            "text/plain": [
              "<Figure size 640x480 with 2 Axes>"
            ]
          },
          "metadata": {},
          "output_type": "display_data"
        },
        {
          "data": {
            "image/png": "[encoded data removed]",
            "text/plain": [
              "<Figure size 640x480 with 2 Axes>"
            ]
          },
          "metadata": {},
          "output_type": "display_data"
        },
        {
          "data": {
            "image/png": "[encoded data removed]",
            "text/plain": [
              "<Figure size 640x480 with 2 Axes>"
            ]
          },
          "metadata": {},
          "output_type": "display_data"
        }
      ],
      "source": [
        "for train_idx, test_idx in cv_split:\n",
        "    y_train, y_test = labels[train_idx], labels[test_idx]\n",
        "    X_train = csp.fit_transform(epochs_data_train[train_idx], y_train)\n",
        "    X_test = csp.transform(epochs_data_train[test_idx])\n",
        "\n",
        "\n",
        "    # nsamples, nx, ny = X_train.shape\n",
        "    # X_train = X_train.reshape((nsamples,nx*ny))\n",
        "    X_train = pca.fit_transform(X_train, y_train)\n",
        "    X_test = pca.transform(X_test)\n",
        "\n",
        "    oversample = SMOTE()\n",
        "    Xs_train, ys_train = oversample.fit_resample(X_train, y_train)\n",
        "    # fit classifier\n",
        "\n",
        "    lda.fit(Xs_train, ys_train)\n",
        "\n",
        "    y_pred = lda.predict(X_test)\n",
        "    scores.append(lda.score(X_test, y_test))\n",
        "    ConfusionMatrixDisplay.from_predictions(y_test, y_pred)\n",
        "\n",
        "\n",
        "    acc1 = accuracy_score(y_test, y_pred)\n",
        "    y_pred_proba = lda.predict_proba(X_test)[:, 1]\n",
        "    auc_score1 = roc_auc_score(y_test, y_pred_proba)\n",
        "\n",
        "    # print(\"Accuracy: \", acc1)\n",
        "    # print(\"AUC Score: \", auc_score1)\n",
        "    accs.append(acc1)\n",
        "    aucScores.append(auc_score1)\n",
        "    # f11 = f1_score(y_test, y_pred)"
      ]
    },
    {
      "cell_type": "code",
      "execution_count": 50,
      "metadata": {},
      "outputs": [
        {
          "data": {
            "text/plain": [
              "[0.5843446601941747,\n",
              " 0.5837378640776699,\n",
              " 0.5964805825242718,\n",
              " 0.5989077669902912,\n",
              " 0.558252427184466,\n",
              " 0.5898058252427184,\n",
              " 0.6086165048543689,\n",
              " 0.587378640776699,\n",
              " 0.5679611650485437,\n",
              " 0.6146844660194175]"
            ]
          },
          "execution_count": 50,
          "metadata": {},
          "output_type": "execute_result"
        }
      ],
      "source": [
        "accs"
      ]
    },
    {
      "cell_type": "code",
      "execution_count": 51,
      "metadata": {},
      "outputs": [
        {
          "data": {
            "text/plain": [
              "[0.5843446601941747,\n",
              " 0.5837378640776699,\n",
              " 0.5964805825242718,\n",
              " 0.5989077669902912,\n",
              " 0.558252427184466,\n",
              " 0.5898058252427184,\n",
              " 0.6086165048543689,\n",
              " 0.587378640776699,\n",
              " 0.5679611650485437,\n",
              " 0.6146844660194175]"
            ]
          },
          "execution_count": 51,
          "metadata": {},
          "output_type": "execute_result"
        }
      ],
      "source": [
        "scores"
      ]
    },
    {
      "cell_type": "markdown",
      "metadata": {
        "id": "r-oOl9DJhVlE"
      },
      "source": [
        "# Look at performance over time\n",
        "\n"
      ]
    },
    {
      "cell_type": "code",
      "execution_count": 12,
      "metadata": {
        "colab": {
          "base_uri": "https://localhost:8080/"
        },
        "id": "svSjrInuABGb",
        "outputId": "7e52552a-f79c-4f06-a4c8-91012868a632"
      },
      "outputs": [
        {
          "name": "stdout",
          "output_type": "stream",
          "text": [
            "200\n",
            "[  0   6  12  18  24  30  36  42  48  54  60  66  72  78  84  90  96 102\n",
            " 108 114 120 126 132 138 144 150 156 162 168 174 180 186 192 198 204 210\n",
            " 216 222 228 234 240 246 252 258 264 270]\n"
          ]
        }
      ],
      "source": [
        "sfreq = 200 #raw.info[\"sfreq\"]\n",
        "print(sfreq)\n",
        "w_length = int(sfreq * 0.15)  # running classifier: window length\n",
        "w_step = int(sfreq * 0.03)  # running classifier: window step size\n",
        "w_start = np.arange(0, epochs_data.shape[2] - w_length, w_step)\n",
        "print(w_start)"
      ]
    },
    {
      "cell_type": "code",
      "execution_count": null,
      "metadata": {
        "colab": {
          "base_uri": "https://localhost:8080/",
          "height": 1000
        },
        "id": "WXyCW_RigRV4",
        "outputId": "eee334e1-dc96-4931-920d-e0772c83857f"
      },
      "outputs": [
        {
          "name": "stdout",
          "output_type": "stream",
          "text": [
            "200\n",
            "Computing rank from data with rank=None\n",
            "    Using tolerance 9.4e+03 (2.2e-16 eps * 59 dim * 7.2e+17  max singular value)\n",
            "    Estimated rank (mag): 59\n",
            "    MAG: rank 59 computed from 59 data channels with 0 projectors\n",
            "Reducing data rank from 59 -> 59\n",
            "Estimating covariance using EMPIRICAL\n",
            "Done.\n",
            "Computing rank from data with rank=None\n",
            "    Using tolerance 8.3e+02 (2.2e-16 eps * 59 dim * 6.3e+16  max singular value)\n",
            "    Estimated rank (mag): 59\n",
            "    MAG: rank 59 computed from 59 data channels with 0 projectors\n",
            "Reducing data rank from 59 -> 59\n",
            "Estimating covariance using EMPIRICAL\n",
            "Done.\n",
            "Computing rank from data with rank=None\n",
            "    Using tolerance 9.2e+03 (2.2e-16 eps * 59 dim * 7e+17  max singular value)\n",
            "    Estimated rank (mag): 59\n",
            "    MAG: rank 59 computed from 59 data channels with 0 projectors\n",
            "Reducing data rank from 59 -> 59\n",
            "Estimating covariance using EMPIRICAL\n",
            "Done.\n",
            "Computing rank from data with rank=None\n",
            "    Using tolerance 7.3e+02 (2.2e-16 eps * 59 dim * 5.5e+16  max singular value)\n",
            "    Estimated rank (mag): 59\n",
            "    MAG: rank 59 computed from 59 data channels with 0 projectors\n",
            "Reducing data rank from 59 -> 59\n",
            "Estimating covariance using EMPIRICAL\n",
            "Done.\n",
            "Computing rank from data with rank=None\n",
            "    Using tolerance 9.4e+03 (2.2e-16 eps * 59 dim * 7.2e+17  max singular value)\n",
            "    Estimated rank (mag): 59\n",
            "    MAG: rank 59 computed from 59 data channels with 0 projectors\n",
            "Reducing data rank from 59 -> 59\n",
            "Estimating covariance using EMPIRICAL\n",
            "Done.\n",
            "Computing rank from data with rank=None\n",
            "    Using tolerance 7.2e+02 (2.2e-16 eps * 59 dim * 5.5e+16  max singular value)\n",
            "    Estimated rank (mag): 59\n",
            "    MAG: rank 59 computed from 59 data channels with 0 projectors\n",
            "Reducing data rank from 59 -> 59\n",
            "Estimating covariance using EMPIRICAL\n",
            "Done.\n",
            "Computing rank from data with rank=None\n",
            "    Using tolerance 1e+04 (2.2e-16 eps * 59 dim * 7.7e+17  max singular value)\n",
            "    Estimated rank (mag): 59\n",
            "    MAG: rank 59 computed from 59 data channels with 0 projectors\n",
            "Reducing data rank from 59 -> 59\n",
            "Estimating covariance using EMPIRICAL\n",
            "Done.\n",
            "Computing rank from data with rank=None\n",
            "    Using tolerance 7.9e+02 (2.2e-16 eps * 59 dim * 6.1e+16  max singular value)\n",
            "    Estimated rank (mag): 59\n",
            "    MAG: rank 59 computed from 59 data channels with 0 projectors\n",
            "Reducing data rank from 59 -> 59\n",
            "Estimating covariance using EMPIRICAL\n",
            "Done.\n",
            "Computing rank from data with rank=None\n",
            "    Using tolerance 9.5e+03 (2.2e-16 eps * 59 dim * 7.3e+17  max singular value)\n",
            "    Estimated rank (mag): 59\n",
            "    MAG: rank 59 computed from 59 data channels with 0 projectors\n",
            "Reducing data rank from 59 -> 59\n",
            "Estimating covariance using EMPIRICAL\n",
            "Done.\n",
            "Computing rank from data with rank=None\n",
            "    Using tolerance 7.8e+02 (2.2e-16 eps * 59 dim * 5.9e+16  max singular value)\n",
            "    Estimated rank (mag): 59\n",
            "    MAG: rank 59 computed from 59 data channels with 0 projectors\n",
            "Reducing data rank from 59 -> 59\n",
            "Estimating covariance using EMPIRICAL\n",
            "Done.\n",
            "Computing rank from data with rank=None\n",
            "    Using tolerance 9.1e+03 (2.2e-16 eps * 59 dim * 6.9e+17  max singular value)\n",
            "    Estimated rank (mag): 59\n",
            "    MAG: rank 59 computed from 59 data channels with 0 projectors\n",
            "Reducing data rank from 59 -> 59\n",
            "Estimating covariance using EMPIRICAL\n",
            "Done.\n",
            "Computing rank from data with rank=None\n",
            "    Using tolerance 7.4e+02 (2.2e-16 eps * 59 dim * 5.7e+16  max singular value)\n",
            "    Estimated rank (mag): 59\n",
            "    MAG: rank 59 computed from 59 data channels with 0 projectors\n",
            "Reducing data rank from 59 -> 59\n",
            "Estimating covariance using EMPIRICAL\n",
            "Done.\n",
            "Computing rank from data with rank=None\n",
            "    Using tolerance 9.5e+03 (2.2e-16 eps * 59 dim * 7.2e+17  max singular value)\n",
            "    Estimated rank (mag): 59\n",
            "    MAG: rank 59 computed from 59 data channels with 0 projectors\n",
            "Reducing data rank from 59 -> 59\n",
            "Estimating covariance using EMPIRICAL\n",
            "Done.\n",
            "Computing rank from data with rank=None\n",
            "    Using tolerance 7.4e+02 (2.2e-16 eps * 59 dim * 5.7e+16  max singular value)\n",
            "    Estimated rank (mag): 59\n",
            "    MAG: rank 59 computed from 59 data channels with 0 projectors\n",
            "Reducing data rank from 59 -> 59\n",
            "Estimating covariance using EMPIRICAL\n",
            "Done.\n",
            "Computing rank from data with rank=None\n",
            "    Using tolerance 1e+04 (2.2e-16 eps * 59 dim * 7.9e+17  max singular value)\n",
            "    Estimated rank (mag): 59\n",
            "    MAG: rank 59 computed from 59 data channels with 0 projectors\n",
            "Reducing data rank from 59 -> 59\n",
            "Estimating covariance using EMPIRICAL\n",
            "Done.\n",
            "Computing rank from data with rank=None\n",
            "    Using tolerance 7.2e+02 (2.2e-16 eps * 59 dim * 5.5e+16  max singular value)\n",
            "    Estimated rank (mag): 59\n",
            "    MAG: rank 59 computed from 59 data channels with 0 projectors\n",
            "Reducing data rank from 59 -> 59\n",
            "Estimating covariance using EMPIRICAL\n",
            "Done.\n",
            "Computing rank from data with rank=None\n",
            "    Using tolerance 1e+04 (2.2e-16 eps * 59 dim * 7.6e+17  max singular value)\n",
            "    Estimated rank (mag): 59\n",
            "    MAG: rank 59 computed from 59 data channels with 0 projectors\n",
            "Reducing data rank from 59 -> 59\n",
            "Estimating covariance using EMPIRICAL\n",
            "Done.\n",
            "Computing rank from data with rank=None\n",
            "    Using tolerance 7.6e+02 (2.2e-16 eps * 59 dim * 5.8e+16  max singular value)\n",
            "    Estimated rank (mag): 59\n",
            "    MAG: rank 59 computed from 59 data channels with 0 projectors\n",
            "Reducing data rank from 59 -> 59\n",
            "Estimating covariance using EMPIRICAL\n",
            "Done.\n",
            "Computing rank from data with rank=None\n",
            "    Using tolerance 9.2e+03 (2.2e-16 eps * 59 dim * 7e+17  max singular value)\n",
            "    Estimated rank (mag): 59\n",
            "    MAG: rank 59 computed from 59 data channels with 0 projectors\n",
            "Reducing data rank from 59 -> 59\n",
            "Estimating covariance using EMPIRICAL\n",
            "Done.\n",
            "Computing rank from data with rank=None\n",
            "    Using tolerance 7.8e+02 (2.2e-16 eps * 59 dim * 6e+16  max singular value)\n",
            "    Estimated rank (mag): 59\n",
            "    MAG: rank 59 computed from 59 data channels with 0 projectors\n",
            "Reducing data rank from 59 -> 59\n",
            "Estimating covariance using EMPIRICAL\n",
            "Done.\n"
          ]
        },
        {
          "data": {
            "image/png": "[encoded data removed]",
            "text/plain": [
              "<Figure size 640x480 with 1 Axes>"
            ]
          },
          "metadata": {},
          "output_type": "display_data"
        }
      ],
      "source": [
        "sfreq = 200 #raw.info[\"sfreq\"]\n",
        "print(sfreq)\n",
        "w_length = int(sfreq * 0.15)  # running classifier: window length\n",
        "w_step = int(sfreq * 0.03)  # running classifier: window step size\n",
        "w_start = np.arange(0, epochs_data.shape[2] - w_length, w_step)\n",
        "\n",
        "scores_windows = []\n",
        "\n",
        "for train_idx, test_idx in cv_split:\n",
        "    y_train, y_test = labels[train_idx], labels[test_idx]\n",
        "\n",
        "    X_train = csp.fit_transform(epochs_data_train[train_idx], y_train)\n",
        "    X_test = csp.transform(epochs_data_train[test_idx])\n",
        "\n",
        "    # fit classifier\n",
        "    lda.fit(X_train, y_train)\n",
        "\n",
        "    # running classifier: test classifier on sliding window\n",
        "    score_this_window = []\n",
        "    auc_scores = []\n",
        "    for n in w_start:\n",
        "        X_test = csp.transform(epochs_data[test_idx][:, :, n : (n + w_length)])\n",
        "        score_this_window.append(lda.score(X_test, y_test))\n",
        "\n",
        "        y_pred_proba = lda.predict_proba(X_test)[:, 1]\n",
        "        auc_scores.append(roc_auc_score(y_test, y_pred_proba))\n",
        "\n",
        "        scores_windows.append(score_this_window)\n",
        "\n",
        "# Plot scores over time\n",
        "w_times = (w_start + w_length / 2.0) / sfreq + epochs.tmin\n",
        "\n",
        "plt.figure()\n",
        "plt.plot(w_times, np.mean(scores_windows, 0), label=\"Score\")\n",
        "plt.plot(w_times, auc_scores, label=\"AUC\")\n",
        "plt.axvline(0, linestyle=\"--\", color=\"k\", label=\"Onset\")\n",
        "plt.axhline(0.5, linestyle=\"-\", color=\"k\", label=\"Chance\")\n",
        "plt.xlabel(\"time (s)\")\n",
        "plt.ylabel(\"classification accuracy\")\n",
        "plt.title(\"Classification score over time\")\n",
        "plt.legend(loc=\"lower right\")\n",
        "plt.show()"
      ]
    },
    {
      "cell_type": "code",
      "execution_count": null,
      "metadata": {
        "colab": {
          "base_uri": "https://localhost:8080/",
          "height": 1000
        },
        "id": "y97sOAc1iApP",
        "outputId": "69189b22-18f0-4cd9-a1ce-e2fb217dc1fb"
      },
      "outputs": [
        {
          "name": "stdout",
          "output_type": "stream",
          "text": [
            "Computing rank from data with rank=None\n",
            "    Using tolerance 1.1e+04 (2.2e-16 eps * 59 dim * 8.3e+17  max singular value)\n",
            "    Estimated rank (mag): 59\n",
            "    MAG: rank 59 computed from 59 data channels with 0 projectors\n",
            "Reducing data rank from 59 -> 59\n",
            "Estimating covariance using EMPIRICAL\n",
            "Done.\n",
            "Computing rank from data with rank=None\n",
            "    Using tolerance 9.1e+02 (2.2e-16 eps * 59 dim * 6.9e+16  max singular value)\n",
            "    Estimated rank (mag): 59\n",
            "    MAG: rank 59 computed from 59 data channels with 0 projectors\n",
            "Reducing data rank from 59 -> 59\n",
            "Estimating covariance using EMPIRICAL\n",
            "Done.\n",
            "Computing rank from data with rank=None\n",
            "    Using tolerance 1.2e+04 (2.2e-16 eps * 59 dim * 8.8e+17  max singular value)\n",
            "    Estimated rank (mag): 59\n",
            "    MAG: rank 59 computed from 59 data channels with 0 projectors\n",
            "Reducing data rank from 59 -> 59\n",
            "Estimating covariance using EMPIRICAL\n",
            "Done.\n",
            "Computing rank from data with rank=None\n",
            "    Using tolerance 9.3e+02 (2.2e-16 eps * 59 dim * 7.1e+16  max singular value)\n",
            "    Estimated rank (mag): 59\n",
            "    MAG: rank 59 computed from 59 data channels with 0 projectors\n",
            "Reducing data rank from 59 -> 59\n",
            "Estimating covariance using EMPIRICAL\n",
            "Done.\n",
            "Computing rank from data with rank=None\n",
            "    Using tolerance 1.2e+04 (2.2e-16 eps * 59 dim * 8.9e+17  max singular value)\n",
            "    Estimated rank (mag): 59\n",
            "    MAG: rank 59 computed from 59 data channels with 0 projectors\n",
            "Reducing data rank from 59 -> 59\n",
            "Estimating covariance using EMPIRICAL\n",
            "Done.\n",
            "Computing rank from data with rank=None\n",
            "    Using tolerance 9.2e+02 (2.2e-16 eps * 59 dim * 7e+16  max singular value)\n",
            "    Estimated rank (mag): 59\n",
            "    MAG: rank 59 computed from 59 data channels with 0 projectors\n",
            "Reducing data rank from 59 -> 59\n",
            "Estimating covariance using EMPIRICAL\n",
            "Done.\n",
            "Computing rank from data with rank=None\n",
            "    Using tolerance 1.1e+04 (2.2e-16 eps * 59 dim * 8.6e+17  max singular value)\n",
            "    Estimated rank (mag): 59\n",
            "    MAG: rank 59 computed from 59 data channels with 0 projectors\n",
            "Reducing data rank from 59 -> 59\n",
            "Estimating covariance using EMPIRICAL\n",
            "Done.\n",
            "Computing rank from data with rank=None\n",
            "    Using tolerance 9.3e+02 (2.2e-16 eps * 59 dim * 7.1e+16  max singular value)\n",
            "    Estimated rank (mag): 59\n",
            "    MAG: rank 59 computed from 59 data channels with 0 projectors\n",
            "Reducing data rank from 59 -> 59\n",
            "Estimating covariance using EMPIRICAL\n",
            "Done.\n",
            "Computing rank from data with rank=None\n",
            "    Using tolerance 1.2e+04 (2.2e-16 eps * 59 dim * 8.9e+17  max singular value)\n",
            "    Estimated rank (mag): 59\n",
            "    MAG: rank 59 computed from 59 data channels with 0 projectors\n",
            "Reducing data rank from 59 -> 59\n",
            "Estimating covariance using EMPIRICAL\n",
            "Done.\n",
            "Computing rank from data with rank=None\n",
            "    Using tolerance 9.2e+02 (2.2e-16 eps * 59 dim * 7e+16  max singular value)\n",
            "    Estimated rank (mag): 59\n",
            "    MAG: rank 59 computed from 59 data channels with 0 projectors\n",
            "Reducing data rank from 59 -> 59\n",
            "Estimating covariance using EMPIRICAL\n",
            "Done.\n",
            "Computing rank from data with rank=None\n",
            "    Using tolerance 1.1e+04 (2.2e-16 eps * 59 dim * 8.8e+17  max singular value)\n",
            "    Estimated rank (mag): 59\n",
            "    MAG: rank 59 computed from 59 data channels with 0 projectors\n",
            "Reducing data rank from 59 -> 59\n",
            "Estimating covariance using EMPIRICAL\n",
            "Done.\n",
            "Computing rank from data with rank=None\n",
            "    Using tolerance 9.3e+02 (2.2e-16 eps * 59 dim * 7.1e+16  max singular value)\n",
            "    Estimated rank (mag): 59\n",
            "    MAG: rank 59 computed from 59 data channels with 0 projectors\n",
            "Reducing data rank from 59 -> 59\n",
            "Estimating covariance using EMPIRICAL\n",
            "Done.\n",
            "Computing rank from data with rank=None\n",
            "    Using tolerance 1.2e+04 (2.2e-16 eps * 59 dim * 8.9e+17  max singular value)\n",
            "    Estimated rank (mag): 59\n",
            "    MAG: rank 59 computed from 59 data channels with 0 projectors\n",
            "Reducing data rank from 59 -> 59\n",
            "Estimating covariance using EMPIRICAL\n",
            "Done.\n",
            "Computing rank from data with rank=None\n",
            "    Using tolerance 9.3e+02 (2.2e-16 eps * 59 dim * 7.1e+16  max singular value)\n",
            "    Estimated rank (mag): 59\n",
            "    MAG: rank 59 computed from 59 data channels with 0 projectors\n",
            "Reducing data rank from 59 -> 59\n",
            "Estimating covariance using EMPIRICAL\n",
            "Done.\n",
            "Computing rank from data with rank=None\n",
            "    Using tolerance 1.1e+04 (2.2e-16 eps * 59 dim * 8.6e+17  max singular value)\n",
            "    Estimated rank (mag): 59\n",
            "    MAG: rank 59 computed from 59 data channels with 0 projectors\n",
            "Reducing data rank from 59 -> 59\n",
            "Estimating covariance using EMPIRICAL\n",
            "Done.\n",
            "Computing rank from data with rank=None\n",
            "    Using tolerance 8.9e+02 (2.2e-16 eps * 59 dim * 6.8e+16  max singular value)\n",
            "    Estimated rank (mag): 59\n",
            "    MAG: rank 59 computed from 59 data channels with 0 projectors\n",
            "Reducing data rank from 59 -> 59\n",
            "Estimating covariance using EMPIRICAL\n",
            "Done.\n",
            "Computing rank from data with rank=None\n",
            "    Using tolerance 1.1e+04 (2.2e-16 eps * 59 dim * 8.7e+17  max singular value)\n",
            "    Estimated rank (mag): 59\n",
            "    MAG: rank 59 computed from 59 data channels with 0 projectors\n",
            "Reducing data rank from 59 -> 59\n",
            "Estimating covariance using EMPIRICAL\n",
            "Done.\n",
            "Computing rank from data with rank=None\n",
            "    Using tolerance 8.9e+02 (2.2e-16 eps * 59 dim * 6.8e+16  max singular value)\n",
            "    Estimated rank (mag): 59\n",
            "    MAG: rank 59 computed from 59 data channels with 0 projectors\n",
            "Reducing data rank from 59 -> 59\n",
            "Estimating covariance using EMPIRICAL\n",
            "Done.\n",
            "Computing rank from data with rank=None\n",
            "    Using tolerance 1.2e+04 (2.2e-16 eps * 59 dim * 8.9e+17  max singular value)\n",
            "    Estimated rank (mag): 59\n",
            "    MAG: rank 59 computed from 59 data channels with 0 projectors\n",
            "Reducing data rank from 59 -> 59\n",
            "Estimating covariance using EMPIRICAL\n",
            "Done.\n",
            "Computing rank from data with rank=None\n",
            "    Using tolerance 9.1e+02 (2.2e-16 eps * 59 dim * 6.9e+16  max singular value)\n",
            "    Estimated rank (mag): 59\n",
            "    MAG: rank 59 computed from 59 data channels with 0 projectors\n",
            "Reducing data rank from 59 -> 59\n",
            "Estimating covariance using EMPIRICAL\n",
            "Done.\n",
            "              precision    recall  f1-score   support\n",
            "\n",
            "  car_normal       0.95      1.00      0.97      3913\n",
            "   car_brake       0.00      0.00      0.00       206\n",
            "\n",
            "    accuracy                           0.95      4119\n",
            "   macro avg       0.47      0.50      0.49      4119\n",
            "weighted avg       0.90      0.95      0.93      4119\n",
            "\n"
          ]
        },
        {
          "name": "stderr",
          "output_type": "stream",
          "text": [
            "/usr/local/lib/python3.10/dist-packages/sklearn/metrics/_classification.py:1344: UndefinedMetricWarning: Precision and F-score are ill-defined and being set to 0.0 in labels with no predicted samples. Use `zero_division` parameter to control this behavior.\n",
            "  _warn_prf(average, modifier, msg_start, len(result))\n",
            "/usr/local/lib/python3.10/dist-packages/sklearn/metrics/_classification.py:1344: UndefinedMetricWarning: Precision and F-score are ill-defined and being set to 0.0 in labels with no predicted samples. Use `zero_division` parameter to control this behavior.\n",
            "  _warn_prf(average, modifier, msg_start, len(result))\n",
            "/usr/local/lib/python3.10/dist-packages/sklearn/metrics/_classification.py:1344: UndefinedMetricWarning: Precision and F-score are ill-defined and being set to 0.0 in labels with no predicted samples. Use `zero_division` parameter to control this behavior.\n",
            "  _warn_prf(average, modifier, msg_start, len(result))\n"
          ]
        },
        {
          "data": {
            "text/plain": [
              "[Text(0, 0.5, 'True label'), Text(0.5, 0, 'Predicted label')]"
            ]
          },
          "execution_count": 18,
          "metadata": {},
          "output_type": "execute_result"
        },
        {
          "data": {
            "image/png": "[encoded data removed]",
            "text/plain": [
              "<Figure size 640x480 with 2 Axes>"
            ]
          },
          "metadata": {},
          "output_type": "display_data"
        }
      ],
      "source": [
        "# Get the labels\n",
        "labels = epochs[\"car_normal\", \"car_brake\"].events[:, -1]\n",
        "\n",
        "# Cross validator\n",
        "cv = StratifiedKFold(n_splits=10, shuffle=True, random_state=42)\n",
        "\n",
        "# Do cross-validation\n",
        "preds = np.empty(len(labels))\n",
        "for train, test in cv.split(epochs[\"car_normal\", \"car_brake\"], labels):\n",
        "    clf.fit(epochs[train].get_data(), labels[train])\n",
        "    preds[test] = clf.predict(epochs[test].get_data())\n",
        "\n",
        "# Classification report\n",
        "target_names = ['car_normal', 'car_brake']#, 'car_hold', 'car_collision', 'react_emg']\n",
        "report = classification_report(labels, preds, target_names=target_names)\n",
        "print(report)\n",
        "\n",
        "# Normalized confusion matrix\n",
        "cm = confusion_matrix(labels, preds)\n",
        "cm_normalized = cm.astype(float) / cm.sum(axis=1)[:, np.newaxis]\n",
        "\n",
        "# Plot confusion matrix\n",
        "fig, ax = plt.subplots(1, layout=\"constrained\")\n",
        "im = ax.imshow(cm_normalized, interpolation=\"nearest\", cmap=plt.cm.Blues)\n",
        "ax.set(title=\"Normalized Confusion matrix\")\n",
        "fig.colorbar(im)\n",
        "tick_marks = np.arange(len(target_names))\n",
        "plt.xticks(tick_marks, target_names, rotation=45)\n",
        "plt.yticks(tick_marks, target_names)\n",
        "ax.set(ylabel=\"True label\", xlabel=\"Predicted label\")"
      ]
    },
    {
      "cell_type": "code",
      "execution_count": 54,
      "metadata": {
        "colab": {
          "base_uri": "https://localhost:8080/"
        },
        "id": "KZbmvyDQio-4",
        "outputId": "cd05f478-564c-4bc8-b508-d2dc39ba9352"
      },
      "outputs": [
        {
          "name": "stdout",
          "output_type": "stream",
          "text": [
            "(1648, 4)\n"
          ]
        }
      ],
      "source": [
        "print(X_test.shape)"
      ]
    },
    {
      "cell_type": "code",
      "execution_count": 56,
      "metadata": {
        "id": "mvUp4jO2jyPf"
      },
      "outputs": [
        {
          "name": "stdout",
          "output_type": "stream",
          "text": [
            "Time taken:  0.0009534358978271484\n"
          ]
        }
      ],
      "source": [
        "import time\n",
        "import random\n",
        "\n",
        "start = time.time()\n",
        "randomIndex = random.randint(0, len(X_test) - 1)\n",
        "\n",
        "sampleInput = X_test[randomIndex].reshape(1,-1)\n",
        "lda.predict(sampleInput)\n",
        "end = time.time()\n",
        "print('Time taken: ', end-start)"
      ]
    },
    {
      "cell_type": "code",
      "execution_count": null,
      "metadata": {},
      "outputs": [],
      "source": []
    }
  ],
  "metadata": {
    "colab": {
      "provenance": []
    },
    "kernelspec": {
      "display_name": "Python 3",
      "name": "python3"
    },
    "language_info": {
      "codemirror_mode": {
        "name": "ipython",
        "version": 3
      },
      "file_extension": ".py",
      "mimetype": "text/x-python",
      "name": "python",
      "nbconvert_exporter": "python",
      "pygments_lexer": "ipython3",
      "version": "3.12.0"
    }
  },
  "nbformat": 4,
  "nbformat_minor": 0
}
