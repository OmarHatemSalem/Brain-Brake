{
 "cells": [
  {
   "cell_type": "code",
   "execution_count": 3,
   "metadata": {},
   "outputs": [],
   "source": [
    "import os\n",
    "import numpy as np\n",
    "from scipy.stats import mstats\n",
    "import mat73\n"
   ]
  },
  {
   "cell_type": "code",
   "execution_count": 4,
   "metadata": {},
   "outputs": [],
   "source": [
    "f = os.path.join('VPdx.mat')\n",
    "data = mat73.loadmat(f)\n"
   ]
  },
  {
   "cell_type": "code",
   "execution_count": 17,
   "metadata": {},
   "outputs": [
    {
     "name": "stdout",
     "output_type": "stream",
     "text": [
      "(1670,)\n"
     ]
    }
   ],
   "source": [
    "cntSize = data['cnt']['x'].shape[0]\n",
    "numEvents = data['mrk']['time'].shape[0]\n",
    "ad_size = cntSize\n",
    "altered_data = np.zeros((ad_size, 65))\n",
    "\n",
    "srd = 5\n",
    "adjustedTime = np.array([x/srd for x in data['mrk']['time']])\n",
    "\n",
    "print(adjustedTime.shape)"
   ]
  },
  {
   "cell_type": "code",
   "execution_count": 29,
   "metadata": {},
   "outputs": [
    {
     "name": "stdout",
     "output_type": "stream",
     "text": [
      "(62,)\n",
      "[ 3.03167173e+08 -6.00104435e+08 -8.55798319e+08 -8.47012855e+08\n",
      " -8.65192405e+08 -1.65323922e+08 -5.68740007e+08 -5.63770174e+08\n",
      " -8.56924500e+08 -5.90753320e+08 -8.48420971e+08 -8.54688422e+08\n",
      " -6.12356056e+08 -8.70529025e+08 -6.33708663e+08 -8.35923638e+08\n",
      " -5.69677492e+08 -8.69454311e+08 -8.62736605e+08 -5.78923601e+08\n",
      " -8.64928341e+08 -5.99791480e+08 -6.34318135e+08 -8.52428585e+08\n",
      " -5.78729174e+08 -8.71453343e+08 -8.72853827e+08 -5.68844035e+08\n",
      " -8.30382456e+08 -5.87802791e+08 -6.17268310e+08 -8.65367939e+08\n",
      " -5.42230390e+08 -8.70856343e+08 -8.57142860e+08 -5.77571808e+08\n",
      " -8.46872787e+08 -5.84287970e+08 -5.72617517e+08 -8.56286036e+08\n",
      " -5.96534056e+08 -8.73001748e+08 -8.65894624e+08 -5.93530923e+08\n",
      " -8.71556679e+08 -5.83422288e+08 -5.84197744e+08 -8.52733546e+08\n",
      " -5.70111876e+08 -8.45737344e+08 -8.71361322e+08 -5.90914884e+08\n",
      " -8.93456106e+08 -6.24564438e+08 -6.09974697e+08 -8.69625705e+08\n",
      " -6.12072380e+08 -8.84066155e+08 -8.92124770e+08 -6.07120873e+08\n",
      " -8.93045603e+08 -2.49298035e+07  0.00000000e+00  0.00000000e+00\n",
      "  0.00000000e+00  0.00000000e+00  0.00000000e+00  0.00000000e+00\n",
      "  3.80977110e-05]\n"
     ]
    }
   ],
   "source": [
    "numEEG = 62\n",
    "ppSub = np.mean(data['cnt']['x'][:100, :numEEG], axis=0)\n",
    "\n",
    "print(ppSub.shape)\n",
    "for pp in range(100, cntSize):\n",
    "    data['cnt']['x'][pp:pp+1, :numEEG] = data['cnt']['x'][pp:pp+1, :numEEG] - ppSub\n",
    "\n",
    "print(data['cnt']['x'][0])"
   ]
  },
  {
   "cell_type": "code",
   "execution_count": 28,
   "metadata": {},
   "outputs": [],
   "source": [
    "itr = 1\n",
    "for fill in range(0, cntSize):\n",
    "        altered_data[itr:itr+1,1:numEEG] = data['cnt']['x'][fill:fill+1,1:numEEG] # the eeg data\n",
    "        altered_data[itr:itr+1,numEEG+1] = srd*itr\n",
    "        itr = itr + 1\n"
   ]
  },
  {
   "cell_type": "code",
   "execution_count": 32,
   "metadata": {},
   "outputs": [],
   "source": [
    "for j in range(0, numEvents):\n",
    "    if data['mrk']['y'][1][j] == 1: # 5 indicates we're finding the target based off react_emg, 2 indicates we're finding the target based on the lead care braking\n",
    "        approx_index = adjustedTime[j]\n",
    "        for k in range(int(approx_index-round((1300/srd))), int(approx_index+round(200/srd))): # The target duration at the time of react_emg is -1300 ms and +200 ms or -300 ms and + 1200\n",
    "            altered_data[k][numEEG+2] = 1; #label as braking\n",
    "        "
   ]
  },
  {
   "cell_type": "code",
   "execution_count": 34,
   "metadata": {},
   "outputs": [
    {
     "name": "stdout",
     "output_type": "stream",
     "text": [
      "(1619949, 65)\n"
     ]
    }
   ],
   "source": [
    "print(altered_data.shape)"
   ]
  },
  {
   "cell_type": "code",
   "execution_count": 37,
   "metadata": {},
   "outputs": [],
   "source": [
    "# extract features for training and testing\n",
    "targetSize = int((1500/srd)) # 1500 miliseconds, divided by srd, divided by downsampling amount\n",
    "numCategories = 5\n",
    "numFR = numCategories*numEEG+1\n",
    "features = np.zeros((int(ad_size/targetSize), numFR))"
   ]
  },
  {
   "cell_type": "code",
   "execution_count": 51,
   "metadata": {},
   "outputs": [
    {
     "ename": "IndexError",
     "evalue": "index 311 is out of bounds for axis 1 with size 311",
     "output_type": "error",
     "traceback": [
      "\u001b[1;31m---------------------------------------------------------------------------\u001b[0m",
      "\u001b[1;31mIndexError\u001b[0m                                Traceback (most recent call last)",
      "\u001b[1;32mc:\\Users\\G7\\Desktop\\EEG_Analysis\\svm_matlab.ipynb Cell 9\u001b[0m line \u001b[0;36m4\n\u001b[0;32m     <a href='vscode-notebook-cell:/c%3A/Users/G7/Desktop/EEG_Analysis/svm_matlab.ipynb#X11sZmlsZQ%3D%3D?line=35'>36</a>\u001b[0m     m \u001b[39m=\u001b[39m m\u001b[39m+\u001b[39m\u001b[39m1\u001b[39m \u001b[39m+\u001b[39m targetSize \u001b[39m+\u001b[39m \u001b[39mint\u001b[39m((\u001b[39m3000\u001b[39m\u001b[39m/\u001b[39msrd)) \u001b[39m# move end not only to then end of the target but also 3000ms ahead of it\u001b[39;00m\n\u001b[0;32m     <a href='vscode-notebook-cell:/c%3A/Users/G7/Desktop/EEG_Analysis/svm_matlab.ipynb#X11sZmlsZQ%3D%3D?line=37'>38</a>\u001b[0m \u001b[39melse\u001b[39;00m: \u001b[39m# this is a non braking event\u001b[39;00m\n\u001b[0;32m     <a href='vscode-notebook-cell:/c%3A/Users/G7/Desktop/EEG_Analysis/svm_matlab.ipynb#X11sZmlsZQ%3D%3D?line=38'>39</a>\u001b[0m     \u001b[39m# label\u001b[39;00m\n\u001b[1;32m---> <a href='vscode-notebook-cell:/c%3A/Users/G7/Desktop/EEG_Analysis/svm_matlab.ipynb#X11sZmlsZQ%3D%3D?line=39'>40</a>\u001b[0m     features[itr, numFR] \u001b[39m=\u001b[39m \u001b[39m0\u001b[39m\n\u001b[0;32m     <a href='vscode-notebook-cell:/c%3A/Users/G7/Desktop/EEG_Analysis/svm_matlab.ipynb#X11sZmlsZQ%3D%3D?line=41'>42</a>\u001b[0m     \u001b[39m# features \u001b[39;00m\n\u001b[0;32m     <a href='vscode-notebook-cell:/c%3A/Users/G7/Desktop/EEG_Analysis/svm_matlab.ipynb#X11sZmlsZQ%3D%3D?line=42'>43</a>\u001b[0m     ADwindow \u001b[39m=\u001b[39m altered_data[m:m\u001b[39m+\u001b[39mtargetSize,\u001b[39m1\u001b[39m:numEEG]\n",
      "\u001b[1;31mIndexError\u001b[0m: index 311 is out of bounds for axis 1 with size 311"
     ]
    }
   ],
   "source": [
    "itr = 1;\n",
    "m = 1;\n",
    "while m < ad_size-3*targetSize:\n",
    "    spaceCheck = m+int((3000/srd)) # 3000 miliseconds ahead to make sure there are no braking events ahead\n",
    "\n",
    "    if (altered_data[spaceCheck,numEEG+2] == 1): # there is a braking event coming up\n",
    "        m = m+round((3000/srd)) # skip to the known braking point\n",
    "        #label\n",
    "        features[itr,numFR] = 1;\n",
    "\n",
    "        # features\n",
    "        ADwindow = altered_data[m:m+targetSize,1:numEEG]\n",
    "        # mean\n",
    "        features[itr,0:numEEG] = np.mean(ADwindow);      \n",
    "        # standard deviation\n",
    "        features[itr,numEEG+1:2*numEEG] = np.std(ADwindow)\n",
    "        # activity\n",
    "        features[itr,2*numEEG+1:3*numEEG] = np.var(ADwindow)\n",
    "        # mobility and complexity\n",
    "        for d in range(1, numEEG):\n",
    "            ADwd0 = ADwindow[:d]\n",
    "            ADwd1 = np.zeros(1,len(ADwd0))\n",
    "            ADwd2 = np.zeros(1,len(ADwd0))\n",
    "            for d1 in range(2,len(ADwd0)):\n",
    "                ADwd1[d1] = ADwd0[d1] - ADwd0[d1-1]\n",
    "            \n",
    "            # mobility\n",
    "            features[itr,3*numEEG+d] = np.std(ADwd1)/np.std(ADwd0); \n",
    "            for d2 in (2, len(ADwd0)):\n",
    "                ADwd2[d2] = ADwd0(d2) - 2*ADwd0(d2-1) + ADwd0(d2-2)\n",
    "            \n",
    "            FF = (np.std(ADwd2)/np.std(ADwd1))/(np.std(ADwd1)/np.std(ADwd0))\n",
    "            # complexity\n",
    "            features[itr,4*numEEG+d] = FF;\n",
    "                      \n",
    "        m = m+1 + targetSize + int((3000/srd)) # move end not only to then end of the target but also 3000ms ahead of it\n",
    "\n",
    "    else: # this is a non braking event\n",
    "        # label\n",
    "        features[itr, numFR] = 0\n",
    "\n",
    "        # features \n",
    "        ADwindow = altered_data[m:m+targetSize,1:numEEG]\n",
    "        # mean\n",
    "        features[itr,1:numEEG] = np.mean(ADwindow);       \n",
    "        # standard deviation\n",
    "        features[itr,numEEG+1:2*numEEG] = np.std(ADwindow)\n",
    "        # activity\n",
    "        features[itr,2*numEEG+1:3*numEEG] = np.var(ADwindow)\n",
    "        # mobility and complexity\n",
    "        for d in range(0, numEEG):\n",
    "            ADwd0 = ADwindow[:d]\n",
    "            ADwd1 = np.zeros(1,len(ADwd0))\n",
    "            ADwd2 = np.zeros(1,len(ADwd0))\n",
    "            for d1 in range(1, len(ADwd0)):\n",
    "                ADwd1[d1] = ADwd0[d1] - ADwd0[d1-1]\n",
    "            \n",
    "            # mobility\n",
    "            features[itr,3*numEEG+d] = np.std(ADwd1)/np.std(ADwd0);\n",
    "            for d2 in range(2,len(ADwd0)):\n",
    "                ADwd2[d2] = ADwd0[d2] - 2*ADwd0[d2-1] + ADwd0[d2-2]\n",
    "            \n",
    "            FF = (np.std(ADwd2)/np.std(ADwd1))/(np.std(ADwd1)/np.std(ADwd0))\n",
    "            # complexity\n",
    "            features[itr,4*numEEG+d] = FF\n",
    "                      \n",
    "        m = m+1 + targetSize\n",
    "    itr = itr + 1\n"
   ]
  },
  {
   "cell_type": "code",
   "execution_count": null,
   "metadata": {},
   "outputs": [],
   "source": []
  },
  {
   "cell_type": "code",
   "execution_count": null,
   "metadata": {},
   "outputs": [],
   "source": []
  }
 ],
 "metadata": {
  "kernelspec": {
   "display_name": "Python 3",
   "language": "python",
   "name": "python3"
  },
  "language_info": {
   "codemirror_mode": {
    "name": "ipython",
    "version": 3
   },
   "file_extension": ".py",
   "mimetype": "text/x-python",
   "name": "python",
   "nbconvert_exporter": "python",
   "pygments_lexer": "ipython3",
   "version": "3.12.0"
  }
 },
 "nbformat": 4,
 "nbformat_minor": 2
}
